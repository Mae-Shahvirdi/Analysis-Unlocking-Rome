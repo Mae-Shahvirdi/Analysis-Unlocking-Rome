{
 "cells": [
  {
   "cell_type": "code",
   "execution_count": 23,
   "id": "c9166aed-ebd2-4ded-8a5b-923f92ce3aec",
   "metadata": {},
   "outputs": [],
   "source": [
    "import pandas as pd\n",
    "import numpy as np\n",
    "import os"
   ]
  },
  {
   "cell_type": "code",
   "execution_count": 24,
   "id": "6dda661a-62b4-45a0-9f88-1e7b610b23f5",
   "metadata": {},
   "outputs": [],
   "source": [
    "path = r'/Users/fatemehshahvirdi/Work-Related/Data Analysis/Data Immersion/Achievement 6/Rome & Sydney Analysis/O2 Data'"
   ]
  },
  {
   "cell_type": "code",
   "execution_count": 25,
   "id": "bafa7992-13fa-4b15-80f3-bf7f50c73765",
   "metadata": {},
   "outputs": [],
   "source": [
    "df_sydney_june = pd.read_csv(os.path.join(path, 'Original', 'Sydney', '6 June', 'listings.csv'))"
   ]
  },
  {
   "cell_type": "code",
   "execution_count": 26,
   "id": "66d060f2-c8bc-46e6-a99d-41a45bec28d1",
   "metadata": {},
   "outputs": [
    {
     "data": {
      "text/plain": [
       "(23451, 18)"
      ]
     },
     "execution_count": 26,
     "metadata": {},
     "output_type": "execute_result"
    }
   ],
   "source": [
    "df_sydney_june.shape"
   ]
  },
  {
   "cell_type": "code",
   "execution_count": 27,
   "id": "a80120e3-9894-4477-bbcc-968105ef70d7",
   "metadata": {},
   "outputs": [
    {
     "data": {
      "text/html": [
       "<div>\n",
       "<style scoped>\n",
       "    .dataframe tbody tr th:only-of-type {\n",
       "        vertical-align: middle;\n",
       "    }\n",
       "\n",
       "    .dataframe tbody tr th {\n",
       "        vertical-align: top;\n",
       "    }\n",
       "\n",
       "    .dataframe thead th {\n",
       "        text-align: right;\n",
       "    }\n",
       "</style>\n",
       "<table border=\"1\" class=\"dataframe\">\n",
       "  <thead>\n",
       "    <tr style=\"text-align: right;\">\n",
       "      <th></th>\n",
       "      <th>id</th>\n",
       "      <th>name</th>\n",
       "      <th>host_id</th>\n",
       "      <th>host_name</th>\n",
       "      <th>neighbourhood_group</th>\n",
       "      <th>neighbourhood</th>\n",
       "      <th>latitude</th>\n",
       "      <th>longitude</th>\n",
       "      <th>room_type</th>\n",
       "      <th>price</th>\n",
       "      <th>minimum_nights</th>\n",
       "      <th>number_of_reviews</th>\n",
       "      <th>last_review</th>\n",
       "      <th>reviews_per_month</th>\n",
       "      <th>calculated_host_listings_count</th>\n",
       "      <th>availability_365</th>\n",
       "      <th>number_of_reviews_ltm</th>\n",
       "      <th>license</th>\n",
       "    </tr>\n",
       "  </thead>\n",
       "  <tbody>\n",
       "    <tr>\n",
       "      <th>0</th>\n",
       "      <td>4688422</td>\n",
       "      <td>Rental unit in Manly · ★4.71 · 2 bedrooms · 3 ...</td>\n",
       "      <td>13396297</td>\n",
       "      <td>Anne</td>\n",
       "      <td>NaN</td>\n",
       "      <td>Manly</td>\n",
       "      <td>-33.805600</td>\n",
       "      <td>151.28433</td>\n",
       "      <td>Entire home/apt</td>\n",
       "      <td>300</td>\n",
       "      <td>1</td>\n",
       "      <td>36</td>\n",
       "      <td>2023-01-28</td>\n",
       "      <td>0.35</td>\n",
       "      <td>1</td>\n",
       "      <td>31</td>\n",
       "      <td>13</td>\n",
       "      <td>PID-STRA-26284</td>\n",
       "    </tr>\n",
       "    <tr>\n",
       "      <th>1</th>\n",
       "      <td>39681254</td>\n",
       "      <td>Rental unit in Manly · ★5.0 · 1 bedroom · 1 be...</td>\n",
       "      <td>25316226</td>\n",
       "      <td>Joel</td>\n",
       "      <td>NaN</td>\n",
       "      <td>Manly</td>\n",
       "      <td>-33.805120</td>\n",
       "      <td>151.28907</td>\n",
       "      <td>Entire home/apt</td>\n",
       "      <td>110</td>\n",
       "      <td>90</td>\n",
       "      <td>3</td>\n",
       "      <td>2019-12-12</td>\n",
       "      <td>0.07</td>\n",
       "      <td>1</td>\n",
       "      <td>0</td>\n",
       "      <td>0</td>\n",
       "      <td>NaN</td>\n",
       "    </tr>\n",
       "    <tr>\n",
       "      <th>2</th>\n",
       "      <td>22314790</td>\n",
       "      <td>Rental unit in Manly · 1 bedroom · 2 beds · 1 ...</td>\n",
       "      <td>48897764</td>\n",
       "      <td>Simon</td>\n",
       "      <td>NaN</td>\n",
       "      <td>Manly</td>\n",
       "      <td>-33.796270</td>\n",
       "      <td>151.28476</td>\n",
       "      <td>Entire home/apt</td>\n",
       "      <td>190</td>\n",
       "      <td>90</td>\n",
       "      <td>1</td>\n",
       "      <td>2018-01-06</td>\n",
       "      <td>0.02</td>\n",
       "      <td>1</td>\n",
       "      <td>0</td>\n",
       "      <td>0</td>\n",
       "      <td>NaN</td>\n",
       "    </tr>\n",
       "    <tr>\n",
       "      <th>3</th>\n",
       "      <td>39446599</td>\n",
       "      <td>Guesthouse in Eastwood · 1 bedroom · 1 bed · 1...</td>\n",
       "      <td>152329169</td>\n",
       "      <td>Ebrahim</td>\n",
       "      <td>NaN</td>\n",
       "      <td>Ryde</td>\n",
       "      <td>-33.785970</td>\n",
       "      <td>151.09255</td>\n",
       "      <td>Entire home/apt</td>\n",
       "      <td>70</td>\n",
       "      <td>90</td>\n",
       "      <td>0</td>\n",
       "      <td>NaN</td>\n",
       "      <td>NaN</td>\n",
       "      <td>1</td>\n",
       "      <td>0</td>\n",
       "      <td>0</td>\n",
       "      <td>PID-STRA-26166</td>\n",
       "    </tr>\n",
       "    <tr>\n",
       "      <th>4</th>\n",
       "      <td>43629106</td>\n",
       "      <td>Rental unit in Manly · ★5.0 · 2 bedrooms · 4 b...</td>\n",
       "      <td>348372472</td>\n",
       "      <td>Jo</td>\n",
       "      <td>NaN</td>\n",
       "      <td>Manly</td>\n",
       "      <td>-33.791103</td>\n",
       "      <td>151.28688</td>\n",
       "      <td>Entire home/apt</td>\n",
       "      <td>742</td>\n",
       "      <td>2</td>\n",
       "      <td>27</td>\n",
       "      <td>2023-03-25</td>\n",
       "      <td>0.85</td>\n",
       "      <td>1</td>\n",
       "      <td>282</td>\n",
       "      <td>10</td>\n",
       "      <td>PID-STRA-10013</td>\n",
       "    </tr>\n",
       "  </tbody>\n",
       "</table>\n",
       "</div>"
      ],
      "text/plain": [
       "         id                                               name    host_id  \\\n",
       "0   4688422  Rental unit in Manly · ★4.71 · 2 bedrooms · 3 ...   13396297   \n",
       "1  39681254  Rental unit in Manly · ★5.0 · 1 bedroom · 1 be...   25316226   \n",
       "2  22314790  Rental unit in Manly · 1 bedroom · 2 beds · 1 ...   48897764   \n",
       "3  39446599  Guesthouse in Eastwood · 1 bedroom · 1 bed · 1...  152329169   \n",
       "4  43629106  Rental unit in Manly · ★5.0 · 2 bedrooms · 4 b...  348372472   \n",
       "\n",
       "  host_name  neighbourhood_group neighbourhood   latitude  longitude  \\\n",
       "0      Anne                  NaN         Manly -33.805600  151.28433   \n",
       "1      Joel                  NaN         Manly -33.805120  151.28907   \n",
       "2     Simon                  NaN         Manly -33.796270  151.28476   \n",
       "3   Ebrahim                  NaN          Ryde -33.785970  151.09255   \n",
       "4        Jo                  NaN         Manly -33.791103  151.28688   \n",
       "\n",
       "         room_type  price  minimum_nights  number_of_reviews last_review  \\\n",
       "0  Entire home/apt    300               1                 36  2023-01-28   \n",
       "1  Entire home/apt    110              90                  3  2019-12-12   \n",
       "2  Entire home/apt    190              90                  1  2018-01-06   \n",
       "3  Entire home/apt     70              90                  0         NaN   \n",
       "4  Entire home/apt    742               2                 27  2023-03-25   \n",
       "\n",
       "   reviews_per_month  calculated_host_listings_count  availability_365  \\\n",
       "0               0.35                               1                31   \n",
       "1               0.07                               1                 0   \n",
       "2               0.02                               1                 0   \n",
       "3                NaN                               1                 0   \n",
       "4               0.85                               1               282   \n",
       "\n",
       "   number_of_reviews_ltm         license  \n",
       "0                     13  PID-STRA-26284  \n",
       "1                      0             NaN  \n",
       "2                      0             NaN  \n",
       "3                      0  PID-STRA-26166  \n",
       "4                     10  PID-STRA-10013  "
      ]
     },
     "execution_count": 27,
     "metadata": {},
     "output_type": "execute_result"
    }
   ],
   "source": [
    "df_sydney_june.head()"
   ]
  },
  {
   "cell_type": "code",
   "execution_count": 28,
   "id": "36b821c0-adf1-49eb-b5fd-0075a4a592ac",
   "metadata": {},
   "outputs": [
    {
     "data": {
      "text/plain": [
       "Index(['id', 'name', 'host_id', 'host_name', 'neighbourhood_group',\n",
       "       'neighbourhood', 'latitude', 'longitude', 'room_type', 'price',\n",
       "       'minimum_nights', 'number_of_reviews', 'last_review',\n",
       "       'reviews_per_month', 'calculated_host_listings_count',\n",
       "       'availability_365', 'number_of_reviews_ltm', 'license'],\n",
       "      dtype='object')"
      ]
     },
     "execution_count": 28,
     "metadata": {},
     "output_type": "execute_result"
    }
   ],
   "source": [
    "df_sydney_june.columns"
   ]
  },
  {
   "cell_type": "code",
   "execution_count": 29,
   "id": "6f43c528-aaee-44c9-ab56-de822c15ce6e",
   "metadata": {},
   "outputs": [
    {
     "data": {
      "text/plain": [
       "id                                    0\n",
       "name                                  0\n",
       "host_id                               0\n",
       "host_name                             2\n",
       "neighbourhood_group               23451\n",
       "neighbourhood                         0\n",
       "latitude                              0\n",
       "longitude                             0\n",
       "room_type                             0\n",
       "price                                 0\n",
       "minimum_nights                        0\n",
       "number_of_reviews                     0\n",
       "last_review                        5897\n",
       "reviews_per_month                  5897\n",
       "calculated_host_listings_count        0\n",
       "availability_365                      0\n",
       "number_of_reviews_ltm                 0\n",
       "license                           12350\n",
       "dtype: int64"
      ]
     },
     "execution_count": 29,
     "metadata": {},
     "output_type": "execute_result"
    }
   ],
   "source": [
    "df_sydney_june.isnull().sum()"
   ]
  },
  {
   "cell_type": "code",
   "execution_count": 30,
   "id": "d44d32a9-91d9-4ae5-9b48-d31354ccab38",
   "metadata": {},
   "outputs": [],
   "source": [
    "df_sydney_june.rename(columns ={\n",
    "    'neighbourhood' : 'neighborhood',\n",
    "    'number_of_reviews_ltm' : 'num_reviews_last_12m'\n",
    "}, inplace= True)"
   ]
  },
  {
   "cell_type": "code",
   "execution_count": 31,
   "id": "297d4ac9-f160-48b7-88b6-8171d9222d67",
   "metadata": {},
   "outputs": [
    {
     "data": {
      "text/plain": [
       "Index(['id', 'name', 'host_id', 'host_name', 'neighbourhood_group',\n",
       "       'neighborhood', 'latitude', 'longitude', 'room_type', 'price',\n",
       "       'minimum_nights', 'number_of_reviews', 'last_review',\n",
       "       'reviews_per_month', 'calculated_host_listings_count',\n",
       "       'availability_365', 'num_reviews_last_12m', 'license'],\n",
       "      dtype='object')"
      ]
     },
     "execution_count": 31,
     "metadata": {},
     "output_type": "execute_result"
    }
   ],
   "source": [
    "df_sydney_june.columns"
   ]
  },
  {
   "cell_type": "code",
   "execution_count": 32,
   "id": "ee6429c8-ea6b-4478-9ef9-a09a2b4311df",
   "metadata": {},
   "outputs": [],
   "source": [
    "columns_to_keep = ['id', 'name', 'host_id',\n",
    "       'neighborhood', 'latitude', 'longitude', 'room_type', 'price',\n",
    "       'minimum_nights', 'number_of_reviews', 'last_review',\n",
    "       'reviews_per_month', 'calculated_host_listings_count',\n",
    "       'availability_365', 'num_reviews_last_12m']\n",
    "df_sydney_june_selected = df_sydney_june[columns_to_keep]"
   ]
  },
  {
   "cell_type": "code",
   "execution_count": 33,
   "id": "7634933b-6dca-4f5e-b77d-1883c778956c",
   "metadata": {},
   "outputs": [
    {
     "data": {
      "text/plain": [
       "Index(['id', 'name', 'host_id', 'neighborhood', 'latitude', 'longitude',\n",
       "       'room_type', 'price', 'minimum_nights', 'number_of_reviews',\n",
       "       'last_review', 'reviews_per_month', 'calculated_host_listings_count',\n",
       "       'availability_365', 'num_reviews_last_12m'],\n",
       "      dtype='object')"
      ]
     },
     "execution_count": 33,
     "metadata": {},
     "output_type": "execute_result"
    }
   ],
   "source": [
    "df_sydney_june_selected.columns"
   ]
  },
  {
   "cell_type": "code",
   "execution_count": 34,
   "id": "ebfc760c-aec1-435d-9586-47236baeeba0",
   "metadata": {},
   "outputs": [
    {
     "data": {
      "text/plain": [
       "id                                  int64\n",
       "name                               object\n",
       "host_id                             int64\n",
       "neighborhood                       object\n",
       "latitude                          float64\n",
       "longitude                         float64\n",
       "room_type                          object\n",
       "price                               int64\n",
       "minimum_nights                      int64\n",
       "number_of_reviews                   int64\n",
       "last_review                        object\n",
       "reviews_per_month                 float64\n",
       "calculated_host_listings_count      int64\n",
       "availability_365                    int64\n",
       "num_reviews_last_12m                int64\n",
       "dtype: object"
      ]
     },
     "execution_count": 34,
     "metadata": {},
     "output_type": "execute_result"
    }
   ],
   "source": [
    "df_sydney_june_selected.dtypes"
   ]
  },
  {
   "cell_type": "code",
   "execution_count": 35,
   "id": "d36ad8de-db55-4aba-b587-7ba171a859c0",
   "metadata": {},
   "outputs": [
    {
     "name": "stdout",
     "output_type": "stream",
     "text": [
      "last_review\n"
     ]
    },
    {
     "name": "stderr",
     "output_type": "stream",
     "text": [
      "/var/folders/hq/_gnsfjyd47q9z3ll9llqlfpw0000gn/T/ipykernel_38122/584867646.py:3: FutureWarning: DataFrame.applymap has been deprecated. Use DataFrame.map instead.\n",
      "  weird = (df_sydney_june_selected[[col]].applymap(type) != df_sydney_june_selected[[col]].iloc[0].apply(type)).any(axis = 1)\n",
      "/var/folders/hq/_gnsfjyd47q9z3ll9llqlfpw0000gn/T/ipykernel_38122/584867646.py:3: FutureWarning: DataFrame.applymap has been deprecated. Use DataFrame.map instead.\n",
      "  weird = (df_sydney_june_selected[[col]].applymap(type) != df_sydney_june_selected[[col]].iloc[0].apply(type)).any(axis = 1)\n",
      "/var/folders/hq/_gnsfjyd47q9z3ll9llqlfpw0000gn/T/ipykernel_38122/584867646.py:3: FutureWarning: DataFrame.applymap has been deprecated. Use DataFrame.map instead.\n",
      "  weird = (df_sydney_june_selected[[col]].applymap(type) != df_sydney_june_selected[[col]].iloc[0].apply(type)).any(axis = 1)\n",
      "/var/folders/hq/_gnsfjyd47q9z3ll9llqlfpw0000gn/T/ipykernel_38122/584867646.py:3: FutureWarning: DataFrame.applymap has been deprecated. Use DataFrame.map instead.\n",
      "  weird = (df_sydney_june_selected[[col]].applymap(type) != df_sydney_june_selected[[col]].iloc[0].apply(type)).any(axis = 1)\n",
      "/var/folders/hq/_gnsfjyd47q9z3ll9llqlfpw0000gn/T/ipykernel_38122/584867646.py:3: FutureWarning: DataFrame.applymap has been deprecated. Use DataFrame.map instead.\n",
      "  weird = (df_sydney_june_selected[[col]].applymap(type) != df_sydney_june_selected[[col]].iloc[0].apply(type)).any(axis = 1)\n",
      "/var/folders/hq/_gnsfjyd47q9z3ll9llqlfpw0000gn/T/ipykernel_38122/584867646.py:3: FutureWarning: DataFrame.applymap has been deprecated. Use DataFrame.map instead.\n",
      "  weird = (df_sydney_june_selected[[col]].applymap(type) != df_sydney_june_selected[[col]].iloc[0].apply(type)).any(axis = 1)\n",
      "/var/folders/hq/_gnsfjyd47q9z3ll9llqlfpw0000gn/T/ipykernel_38122/584867646.py:3: FutureWarning: DataFrame.applymap has been deprecated. Use DataFrame.map instead.\n",
      "  weird = (df_sydney_june_selected[[col]].applymap(type) != df_sydney_june_selected[[col]].iloc[0].apply(type)).any(axis = 1)\n",
      "/var/folders/hq/_gnsfjyd47q9z3ll9llqlfpw0000gn/T/ipykernel_38122/584867646.py:3: FutureWarning: DataFrame.applymap has been deprecated. Use DataFrame.map instead.\n",
      "  weird = (df_sydney_june_selected[[col]].applymap(type) != df_sydney_june_selected[[col]].iloc[0].apply(type)).any(axis = 1)\n",
      "/var/folders/hq/_gnsfjyd47q9z3ll9llqlfpw0000gn/T/ipykernel_38122/584867646.py:3: FutureWarning: DataFrame.applymap has been deprecated. Use DataFrame.map instead.\n",
      "  weird = (df_sydney_june_selected[[col]].applymap(type) != df_sydney_june_selected[[col]].iloc[0].apply(type)).any(axis = 1)\n",
      "/var/folders/hq/_gnsfjyd47q9z3ll9llqlfpw0000gn/T/ipykernel_38122/584867646.py:3: FutureWarning: DataFrame.applymap has been deprecated. Use DataFrame.map instead.\n",
      "  weird = (df_sydney_june_selected[[col]].applymap(type) != df_sydney_june_selected[[col]].iloc[0].apply(type)).any(axis = 1)\n",
      "/var/folders/hq/_gnsfjyd47q9z3ll9llqlfpw0000gn/T/ipykernel_38122/584867646.py:3: FutureWarning: DataFrame.applymap has been deprecated. Use DataFrame.map instead.\n",
      "  weird = (df_sydney_june_selected[[col]].applymap(type) != df_sydney_june_selected[[col]].iloc[0].apply(type)).any(axis = 1)\n",
      "/var/folders/hq/_gnsfjyd47q9z3ll9llqlfpw0000gn/T/ipykernel_38122/584867646.py:3: FutureWarning: DataFrame.applymap has been deprecated. Use DataFrame.map instead.\n",
      "  weird = (df_sydney_june_selected[[col]].applymap(type) != df_sydney_june_selected[[col]].iloc[0].apply(type)).any(axis = 1)\n",
      "/var/folders/hq/_gnsfjyd47q9z3ll9llqlfpw0000gn/T/ipykernel_38122/584867646.py:3: FutureWarning: DataFrame.applymap has been deprecated. Use DataFrame.map instead.\n",
      "  weird = (df_sydney_june_selected[[col]].applymap(type) != df_sydney_june_selected[[col]].iloc[0].apply(type)).any(axis = 1)\n",
      "/var/folders/hq/_gnsfjyd47q9z3ll9llqlfpw0000gn/T/ipykernel_38122/584867646.py:3: FutureWarning: DataFrame.applymap has been deprecated. Use DataFrame.map instead.\n",
      "  weird = (df_sydney_june_selected[[col]].applymap(type) != df_sydney_june_selected[[col]].iloc[0].apply(type)).any(axis = 1)\n",
      "/var/folders/hq/_gnsfjyd47q9z3ll9llqlfpw0000gn/T/ipykernel_38122/584867646.py:3: FutureWarning: DataFrame.applymap has been deprecated. Use DataFrame.map instead.\n",
      "  weird = (df_sydney_june_selected[[col]].applymap(type) != df_sydney_june_selected[[col]].iloc[0].apply(type)).any(axis = 1)\n"
     ]
    }
   ],
   "source": [
    "# check fo mixed data types\n",
    "for col in df_sydney_june_selected.columns.tolist():\n",
    "  weird = (df_sydney_june_selected[[col]].applymap(type) != df_sydney_june_selected[[col]].iloc[0].apply(type)).any(axis = 1)\n",
    "  if len (df_sydney_june_selected[weird]) > 0:\n",
    "    print (col)"
   ]
  },
  {
   "cell_type": "code",
   "execution_count": 39,
   "id": "c057b6d5-bc86-4b90-9d97-d8b0f759a767",
   "metadata": {},
   "outputs": [
    {
     "name": "stdout",
     "output_type": "stream",
     "text": [
      "Unique data types in the 'last_review' column after parsing:\n",
      "<class 'pandas._libs.tslibs.timestamps.Timestamp'>\n",
      "<class 'pandas._libs.tslibs.nattype.NaTType'>\n"
     ]
    }
   ],
   "source": [
    "# Convert 'last_review' column to datetime data type with errors='coerce'\n",
    "parsed_dates = pd.to_datetime(df_sydney_june_selected['last_review'], errors='coerce')\n",
    "\n",
    "# Find the unique data types in the parsed dates\n",
    "unique_data_types = parsed_dates.apply(type).unique()\n",
    "\n",
    "print(\"Unique data types in the 'last_review' column after parsing:\")\n",
    "for data_type in unique_data_types:\n",
    "    print(data_type)"
   ]
  },
  {
   "cell_type": "code",
   "execution_count": 43,
   "id": "affcc7a7-0bef-4184-a193-802bb7004408",
   "metadata": {},
   "outputs": [
    {
     "name": "stdout",
     "output_type": "stream",
     "text": [
      "Number of NaTType values in the 'last_review' column: 5897\n"
     ]
    }
   ],
   "source": [
    "# Convert 'last_review' column to datetime data type with errors='coerce'\n",
    "parsed_dates = pd.to_datetime(df_sydney_june_selected['last_review'], errors='coerce')\n",
    "\n",
    "# Count the number of NaTType values\n",
    "num_nat_values = parsed_dates.isna().sum()\n",
    "\n",
    "print(\"Number of NaTType values in the 'last_review' column:\", num_nat_values)"
   ]
  },
  {
   "cell_type": "markdown",
   "id": "4772a801-c87c-4ef3-8ba6-8e91012cd7db",
   "metadata": {},
   "source": [
    "I checked it and the other data type is for the missing data, I have now 3 options:\n",
    "Remove them, impute them, or create a flag\n",
    "for the reason I explained above (The '0' value in 'number_of_reviews' already serves as an implicit flag, indicating observations without any reviews.) I don't take any action."
   ]
  },
  {
   "cell_type": "code",
   "execution_count": 45,
   "id": "65d84b7f-ebe0-4efa-9356-f4649470d8a6",
   "metadata": {},
   "outputs": [
    {
     "data": {
      "text/html": [
       "<div>\n",
       "<style scoped>\n",
       "    .dataframe tbody tr th:only-of-type {\n",
       "        vertical-align: middle;\n",
       "    }\n",
       "\n",
       "    .dataframe tbody tr th {\n",
       "        vertical-align: top;\n",
       "    }\n",
       "\n",
       "    .dataframe thead th {\n",
       "        text-align: right;\n",
       "    }\n",
       "</style>\n",
       "<table border=\"1\" class=\"dataframe\">\n",
       "  <thead>\n",
       "    <tr style=\"text-align: right;\">\n",
       "      <th></th>\n",
       "      <th>id</th>\n",
       "      <th>name</th>\n",
       "      <th>host_id</th>\n",
       "      <th>neighborhood</th>\n",
       "      <th>latitude</th>\n",
       "      <th>longitude</th>\n",
       "      <th>room_type</th>\n",
       "      <th>price</th>\n",
       "      <th>minimum_nights</th>\n",
       "      <th>number_of_reviews</th>\n",
       "      <th>last_review</th>\n",
       "      <th>reviews_per_month</th>\n",
       "      <th>calculated_host_listings_count</th>\n",
       "      <th>availability_365</th>\n",
       "      <th>num_reviews_last_12m</th>\n",
       "    </tr>\n",
       "  </thead>\n",
       "  <tbody>\n",
       "  </tbody>\n",
       "</table>\n",
       "</div>"
      ],
      "text/plain": [
       "Empty DataFrame\n",
       "Columns: [id, name, host_id, neighborhood, latitude, longitude, room_type, price, minimum_nights, number_of_reviews, last_review, reviews_per_month, calculated_host_listings_count, availability_365, num_reviews_last_12m]\n",
       "Index: []"
      ]
     },
     "execution_count": 45,
     "metadata": {},
     "output_type": "execute_result"
    }
   ],
   "source": [
    "df_dups = df_sydney_june_selected[df_sydney_june_selected.duplicated()]\n",
    "df_dups"
   ]
  },
  {
   "cell_type": "markdown",
   "id": "5acd42ef-dc88-4bd5-ad4d-157a6c56ad2c",
   "metadata": {},
   "source": [
    "# Data understanding"
   ]
  },
  {
   "cell_type": "code",
   "execution_count": 48,
   "id": "a0f3126b-8a12-4053-8b6d-11a6a7249857",
   "metadata": {},
   "outputs": [
    {
     "data": {
      "text/html": [
       "<div>\n",
       "<style scoped>\n",
       "    .dataframe tbody tr th:only-of-type {\n",
       "        vertical-align: middle;\n",
       "    }\n",
       "\n",
       "    .dataframe tbody tr th {\n",
       "        vertical-align: top;\n",
       "    }\n",
       "\n",
       "    .dataframe thead th {\n",
       "        text-align: right;\n",
       "    }\n",
       "</style>\n",
       "<table border=\"1\" class=\"dataframe\">\n",
       "  <thead>\n",
       "    <tr style=\"text-align: right;\">\n",
       "      <th></th>\n",
       "      <th>price</th>\n",
       "      <th>minimum_nights</th>\n",
       "      <th>number_of_reviews</th>\n",
       "      <th>reviews_per_month</th>\n",
       "      <th>calculated_host_listings_count</th>\n",
       "      <th>availability_365</th>\n",
       "      <th>num_reviews_last_12m</th>\n",
       "    </tr>\n",
       "  </thead>\n",
       "  <tbody>\n",
       "    <tr>\n",
       "      <th>count</th>\n",
       "      <td>23451.000000</td>\n",
       "      <td>23451.000000</td>\n",
       "      <td>23451.000000</td>\n",
       "      <td>17554.000000</td>\n",
       "      <td>23451.000000</td>\n",
       "      <td>23451.000000</td>\n",
       "      <td>23451.000000</td>\n",
       "    </tr>\n",
       "    <tr>\n",
       "      <th>mean</th>\n",
       "      <td>289.477549</td>\n",
       "      <td>48.506759</td>\n",
       "      <td>21.589442</td>\n",
       "      <td>0.954271</td>\n",
       "      <td>11.815658</td>\n",
       "      <td>107.756258</td>\n",
       "      <td>6.202721</td>\n",
       "    </tr>\n",
       "    <tr>\n",
       "      <th>std</th>\n",
       "      <td>556.278930</td>\n",
       "      <td>53.000527</td>\n",
       "      <td>50.038387</td>\n",
       "      <td>1.314375</td>\n",
       "      <td>33.929834</td>\n",
       "      <td>127.444825</td>\n",
       "      <td>13.210867</td>\n",
       "    </tr>\n",
       "    <tr>\n",
       "      <th>min</th>\n",
       "      <td>16.000000</td>\n",
       "      <td>1.000000</td>\n",
       "      <td>0.000000</td>\n",
       "      <td>0.010000</td>\n",
       "      <td>1.000000</td>\n",
       "      <td>0.000000</td>\n",
       "      <td>0.000000</td>\n",
       "    </tr>\n",
       "    <tr>\n",
       "      <th>25%</th>\n",
       "      <td>99.000000</td>\n",
       "      <td>2.000000</td>\n",
       "      <td>0.000000</td>\n",
       "      <td>0.060000</td>\n",
       "      <td>1.000000</td>\n",
       "      <td>0.000000</td>\n",
       "      <td>0.000000</td>\n",
       "    </tr>\n",
       "    <tr>\n",
       "      <th>50%</th>\n",
       "      <td>170.000000</td>\n",
       "      <td>30.000000</td>\n",
       "      <td>3.000000</td>\n",
       "      <td>0.390000</td>\n",
       "      <td>1.000000</td>\n",
       "      <td>58.000000</td>\n",
       "      <td>0.000000</td>\n",
       "    </tr>\n",
       "    <tr>\n",
       "      <th>75%</th>\n",
       "      <td>299.000000</td>\n",
       "      <td>90.000000</td>\n",
       "      <td>18.000000</td>\n",
       "      <td>1.400000</td>\n",
       "      <td>4.000000</td>\n",
       "      <td>180.000000</td>\n",
       "      <td>6.000000</td>\n",
       "    </tr>\n",
       "    <tr>\n",
       "      <th>max</th>\n",
       "      <td>32133.000000</td>\n",
       "      <td>1125.000000</td>\n",
       "      <td>942.000000</td>\n",
       "      <td>20.030000</td>\n",
       "      <td>229.000000</td>\n",
       "      <td>365.000000</td>\n",
       "      <td>237.000000</td>\n",
       "    </tr>\n",
       "  </tbody>\n",
       "</table>\n",
       "</div>"
      ],
      "text/plain": [
       "              price  minimum_nights  number_of_reviews  reviews_per_month  \\\n",
       "count  23451.000000    23451.000000       23451.000000       17554.000000   \n",
       "mean     289.477549       48.506759          21.589442           0.954271   \n",
       "std      556.278930       53.000527          50.038387           1.314375   \n",
       "min       16.000000        1.000000           0.000000           0.010000   \n",
       "25%       99.000000        2.000000           0.000000           0.060000   \n",
       "50%      170.000000       30.000000           3.000000           0.390000   \n",
       "75%      299.000000       90.000000          18.000000           1.400000   \n",
       "max    32133.000000     1125.000000         942.000000          20.030000   \n",
       "\n",
       "       calculated_host_listings_count  availability_365  num_reviews_last_12m  \n",
       "count                    23451.000000      23451.000000          23451.000000  \n",
       "mean                        11.815658        107.756258              6.202721  \n",
       "std                         33.929834        127.444825             13.210867  \n",
       "min                          1.000000          0.000000              0.000000  \n",
       "25%                          1.000000          0.000000              0.000000  \n",
       "50%                          1.000000         58.000000              0.000000  \n",
       "75%                          4.000000        180.000000              6.000000  \n",
       "max                        229.000000        365.000000            237.000000  "
      ]
     },
     "execution_count": 48,
     "metadata": {},
     "output_type": "execute_result"
    }
   ],
   "source": [
    "df_sydney_june_selected[['price', 'minimum_nights', 'number_of_reviews',\n",
    "       'last_review', 'reviews_per_month', 'calculated_host_listings_count',\n",
    "       'availability_365', 'num_reviews_last_12m']].describe()"
   ]
  },
  {
   "cell_type": "code",
   "execution_count": null,
   "id": "279e0922-cbda-4d13-902e-810fbf622e30",
   "metadata": {},
   "outputs": [],
   "source": []
  }
 ],
 "metadata": {
  "kernelspec": {
   "display_name": "Python 3 (ipykernel)",
   "language": "python",
   "name": "python3"
  },
  "language_info": {
   "codemirror_mode": {
    "name": "ipython",
    "version": 3
   },
   "file_extension": ".py",
   "mimetype": "text/x-python",
   "name": "python",
   "nbconvert_exporter": "python",
   "pygments_lexer": "ipython3",
   "version": "3.11.7"
  }
 },
 "nbformat": 4,
 "nbformat_minor": 5
}
