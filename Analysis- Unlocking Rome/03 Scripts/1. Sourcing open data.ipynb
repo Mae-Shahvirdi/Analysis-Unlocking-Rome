{
 "cells": [
  {
   "cell_type": "markdown",
   "id": "14e02ca2-cc7b-4cfc-8be5-7da44d65a0a9",
   "metadata": {},
   "source": [
    "# 6.1 SOurcing Open Data: Airbnb Rome\n",
    "\n",
    "### 1.Import libraries and datasets\n",
    "### 2.Data Cleaning\n",
    "### 3.Data Understanding\n",
    "### 4.Export"
   ]
  },
  {
   "cell_type": "markdown",
   "id": "6226cfe8-0011-4bff-8635-c6674a0ce23d",
   "metadata": {},
   "source": [
    "## 1. Import libraries and datasets"
   ]
  },
  {
   "cell_type": "code",
   "execution_count": 334,
   "id": "81723622-c71f-4604-a08a-83189e5d3631",
   "metadata": {},
   "outputs": [],
   "source": [
    "import pandas as pd\n",
    "import numpy as np\n",
    "import os"
   ]
  },
  {
   "cell_type": "code",
   "execution_count": 335,
   "id": "bfd0520b-c12a-4435-90c3-4c11cfef865b",
   "metadata": {},
   "outputs": [],
   "source": [
    "# Create a path\n",
    "path = r'/Users/fatemehshahvirdi/Work-Related/Data Analysis/Data Immersion/Achievement 6/Rome & Sydney Analysis/O2 Data'"
   ]
  },
  {
   "cell_type": "code",
   "execution_count": 336,
   "id": "fe6f36e4-ac49-4a36-b1ba-2ca5331ffef9",
   "metadata": {},
   "outputs": [],
   "source": [
    "# Import Rome dataset\n",
    "df_rome_june = pd.read_csv(os.path.join(path, 'Original', 'Rome', '10 June 2023', 'listings.csv'))"
   ]
  },
  {
   "cell_type": "markdown",
   "id": "1e4f3ecb-1f35-4b73-bc77-f1c9df9225ff",
   "metadata": {},
   "source": [
    "## 2. Data cleaning"
   ]
  },
  {
   "cell_type": "code",
   "execution_count": 337,
   "id": "6b6f0953-5996-42f8-9d6e-a9165a68b106",
   "metadata": {},
   "outputs": [
    {
     "data": {
      "text/html": [
       "<div>\n",
       "<style scoped>\n",
       "    .dataframe tbody tr th:only-of-type {\n",
       "        vertical-align: middle;\n",
       "    }\n",
       "\n",
       "    .dataframe tbody tr th {\n",
       "        vertical-align: top;\n",
       "    }\n",
       "\n",
       "    .dataframe thead th {\n",
       "        text-align: right;\n",
       "    }\n",
       "</style>\n",
       "<table border=\"1\" class=\"dataframe\">\n",
       "  <thead>\n",
       "    <tr style=\"text-align: right;\">\n",
       "      <th></th>\n",
       "      <th>id</th>\n",
       "      <th>name</th>\n",
       "      <th>host_id</th>\n",
       "      <th>host_name</th>\n",
       "      <th>neighbourhood_group</th>\n",
       "      <th>neighbourhood</th>\n",
       "      <th>latitude</th>\n",
       "      <th>longitude</th>\n",
       "      <th>room_type</th>\n",
       "      <th>price</th>\n",
       "      <th>minimum_nights</th>\n",
       "      <th>number_of_reviews</th>\n",
       "      <th>last_review</th>\n",
       "      <th>reviews_per_month</th>\n",
       "      <th>calculated_host_listings_count</th>\n",
       "      <th>availability_365</th>\n",
       "      <th>number_of_reviews_ltm</th>\n",
       "      <th>license</th>\n",
       "    </tr>\n",
       "  </thead>\n",
       "  <tbody>\n",
       "    <tr>\n",
       "      <th>0</th>\n",
       "      <td>2737</td>\n",
       "      <td>Place to stay in Rome · ★4.80 · 1 bedroom · 1 ...</td>\n",
       "      <td>3047</td>\n",
       "      <td>Elif</td>\n",
       "      <td>NaN</td>\n",
       "      <td>VIII Appia Antica</td>\n",
       "      <td>41.871360</td>\n",
       "      <td>12.482150</td>\n",
       "      <td>Private room</td>\n",
       "      <td>50</td>\n",
       "      <td>7</td>\n",
       "      <td>7</td>\n",
       "      <td>2015-05-28</td>\n",
       "      <td>0.07</td>\n",
       "      <td>6</td>\n",
       "      <td>358</td>\n",
       "      <td>0</td>\n",
       "      <td>NaN</td>\n",
       "    </tr>\n",
       "    <tr>\n",
       "      <th>1</th>\n",
       "      <td>181189</td>\n",
       "      <td>Bed and breakfast in Rome · ★4.72 · 1 bedroom ...</td>\n",
       "      <td>868477</td>\n",
       "      <td>Luigi</td>\n",
       "      <td>NaN</td>\n",
       "      <td>I Centro Storico</td>\n",
       "      <td>41.909630</td>\n",
       "      <td>12.456030</td>\n",
       "      <td>Hotel room</td>\n",
       "      <td>100</td>\n",
       "      <td>3</td>\n",
       "      <td>147</td>\n",
       "      <td>2023-06-05</td>\n",
       "      <td>1.03</td>\n",
       "      <td>8</td>\n",
       "      <td>175</td>\n",
       "      <td>6</td>\n",
       "      <td>NaN</td>\n",
       "    </tr>\n",
       "    <tr>\n",
       "      <th>2</th>\n",
       "      <td>11834</td>\n",
       "      <td>Rental unit in Rome · ★4.80 · 1 bedroom · 1 be...</td>\n",
       "      <td>44552</td>\n",
       "      <td>Serena</td>\n",
       "      <td>NaN</td>\n",
       "      <td>I Centro Storico</td>\n",
       "      <td>41.895447</td>\n",
       "      <td>12.491181</td>\n",
       "      <td>Entire home/apt</td>\n",
       "      <td>105</td>\n",
       "      <td>2</td>\n",
       "      <td>191</td>\n",
       "      <td>2023-06-02</td>\n",
       "      <td>1.30</td>\n",
       "      <td>1</td>\n",
       "      <td>246</td>\n",
       "      <td>44</td>\n",
       "      <td>NaN</td>\n",
       "    </tr>\n",
       "    <tr>\n",
       "      <th>3</th>\n",
       "      <td>49240</td>\n",
       "      <td>Condo in Rome · ★4.69 · 2 bedrooms · 5 beds · ...</td>\n",
       "      <td>224479</td>\n",
       "      <td>Ermanno</td>\n",
       "      <td>NaN</td>\n",
       "      <td>I Centro Storico</td>\n",
       "      <td>41.897380</td>\n",
       "      <td>12.476000</td>\n",
       "      <td>Entire home/apt</td>\n",
       "      <td>294</td>\n",
       "      <td>2</td>\n",
       "      <td>70</td>\n",
       "      <td>2023-04-11</td>\n",
       "      <td>0.46</td>\n",
       "      <td>2</td>\n",
       "      <td>151</td>\n",
       "      <td>32</td>\n",
       "      <td>NaN</td>\n",
       "    </tr>\n",
       "    <tr>\n",
       "      <th>4</th>\n",
       "      <td>181747</td>\n",
       "      <td>Rental unit in Rome · ★4.56 · 2 bedrooms · 3 b...</td>\n",
       "      <td>871063</td>\n",
       "      <td>Lorenzo</td>\n",
       "      <td>NaN</td>\n",
       "      <td>I Centro Storico</td>\n",
       "      <td>41.901830</td>\n",
       "      <td>12.503970</td>\n",
       "      <td>Entire home/apt</td>\n",
       "      <td>228</td>\n",
       "      <td>2</td>\n",
       "      <td>85</td>\n",
       "      <td>2023-06-09</td>\n",
       "      <td>0.63</td>\n",
       "      <td>2</td>\n",
       "      <td>329</td>\n",
       "      <td>42</td>\n",
       "      <td>NaN</td>\n",
       "    </tr>\n",
       "  </tbody>\n",
       "</table>\n",
       "</div>"
      ],
      "text/plain": [
       "       id                                               name  host_id  \\\n",
       "0    2737  Place to stay in Rome · ★4.80 · 1 bedroom · 1 ...     3047   \n",
       "1  181189  Bed and breakfast in Rome · ★4.72 · 1 bedroom ...   868477   \n",
       "2   11834  Rental unit in Rome · ★4.80 · 1 bedroom · 1 be...    44552   \n",
       "3   49240  Condo in Rome · ★4.69 · 2 bedrooms · 5 beds · ...   224479   \n",
       "4  181747  Rental unit in Rome · ★4.56 · 2 bedrooms · 3 b...   871063   \n",
       "\n",
       "  host_name  neighbourhood_group      neighbourhood   latitude  longitude  \\\n",
       "0      Elif                  NaN  VIII Appia Antica  41.871360  12.482150   \n",
       "1     Luigi                  NaN   I Centro Storico  41.909630  12.456030   \n",
       "2    Serena                  NaN   I Centro Storico  41.895447  12.491181   \n",
       "3   Ermanno                  NaN   I Centro Storico  41.897380  12.476000   \n",
       "4   Lorenzo                  NaN   I Centro Storico  41.901830  12.503970   \n",
       "\n",
       "         room_type  price  minimum_nights  number_of_reviews last_review  \\\n",
       "0     Private room     50               7                  7  2015-05-28   \n",
       "1       Hotel room    100               3                147  2023-06-05   \n",
       "2  Entire home/apt    105               2                191  2023-06-02   \n",
       "3  Entire home/apt    294               2                 70  2023-04-11   \n",
       "4  Entire home/apt    228               2                 85  2023-06-09   \n",
       "\n",
       "   reviews_per_month  calculated_host_listings_count  availability_365  \\\n",
       "0               0.07                               6               358   \n",
       "1               1.03                               8               175   \n",
       "2               1.30                               1               246   \n",
       "3               0.46                               2               151   \n",
       "4               0.63                               2               329   \n",
       "\n",
       "   number_of_reviews_ltm license  \n",
       "0                      0     NaN  \n",
       "1                      6     NaN  \n",
       "2                     44     NaN  \n",
       "3                     32     NaN  \n",
       "4                     42     NaN  "
      ]
     },
     "execution_count": 337,
     "metadata": {},
     "output_type": "execute_result"
    }
   ],
   "source": [
    "df_rome_june.head()"
   ]
  },
  {
   "cell_type": "code",
   "execution_count": 338,
   "id": "ab996692-7079-48bf-94b1-d980aa62ce2c",
   "metadata": {},
   "outputs": [
    {
     "data": {
      "text/plain": [
       "(26256, 18)"
      ]
     },
     "execution_count": 338,
     "metadata": {},
     "output_type": "execute_result"
    }
   ],
   "source": [
    "df_rome_june.shape"
   ]
  },
  {
   "cell_type": "code",
   "execution_count": 339,
   "id": "322889b1-3d8d-4a64-8e66-3aa775a823fe",
   "metadata": {},
   "outputs": [
    {
     "data": {
      "text/plain": [
       "Index(['id', 'name', 'host_id', 'host_name', 'neighbourhood_group',\n",
       "       'neighbourhood', 'latitude', 'longitude', 'room_type', 'price',\n",
       "       'minimum_nights', 'number_of_reviews', 'last_review',\n",
       "       'reviews_per_month', 'calculated_host_listings_count',\n",
       "       'availability_365', 'number_of_reviews_ltm', 'license'],\n",
       "      dtype='object')"
      ]
     },
     "execution_count": 339,
     "metadata": {},
     "output_type": "execute_result"
    }
   ],
   "source": [
    "# check all 18 column's names\n",
    "df_rome_june.columns"
   ]
  },
  {
   "cell_type": "code",
   "execution_count": 340,
   "id": "e9b9a995-cb6d-47e2-90e3-6d73525b9d66",
   "metadata": {},
   "outputs": [
    {
     "data": {
      "text/plain": [
       "id                                    0\n",
       "name                                  0\n",
       "host_id                               0\n",
       "host_name                             2\n",
       "neighbourhood_group               26256\n",
       "neighbourhood                         0\n",
       "latitude                              0\n",
       "longitude                             0\n",
       "room_type                             0\n",
       "price                                 0\n",
       "minimum_nights                        0\n",
       "number_of_reviews                     0\n",
       "last_review                        3457\n",
       "reviews_per_month                  3457\n",
       "calculated_host_listings_count        0\n",
       "availability_365                      0\n",
       "number_of_reviews_ltm                 0\n",
       "license                           22048\n",
       "dtype: int64"
      ]
     },
     "execution_count": 340,
     "metadata": {},
     "output_type": "execute_result"
    }
   ],
   "source": [
    "# check the null values\n",
    "df_rome_june.isnull().sum()"
   ]
  },
  {
   "cell_type": "markdown",
   "id": "098c334e-7599-47e5-9feb-255f67bc7a05",
   "metadata": {},
   "source": [
    "#### The spell of 'neighbourhood' is incorrect, I will change it to 'neighborhood'\n",
    "#### and the column 'number_of_reviews_ltm' is unclear (ltm = last 12 month), I also change it to 'num_reviews_last_12m'"
   ]
  },
  {
   "cell_type": "code",
   "execution_count": 377,
   "id": "5b2f660f-a74d-4678-8e59-3cfdeffbecf7",
   "metadata": {},
   "outputs": [],
   "source": [
    "# Rename the columns\n",
    "df_rome_june.rename(columns={\n",
    "    'neighbourhood': 'neighborhood', 'number_of_reviews_ltm': 'num_reviews_last_12m' , \n",
    "    'number_of_reviews': 'num_reviews', 'minimum_nights':'min_nights'\n",
    "} , inplace= True)"
   ]
  },
  {
   "cell_type": "markdown",
   "id": "241f160e-97ee-4069-83a0-60abc9b6da80",
   "metadata": {},
   "source": [
    "#### 'neighbourhood_group' is all empty, and the 'license' column also is mostly empty and the information it contains is not necessary for the analysis,I also don't need the 'host_name' so I'll remove these 2 columns"
   ]
  },
  {
   "cell_type": "code",
   "execution_count": 378,
   "id": "0c40d5bf-1b8f-4fb7-915c-7da371aebc57",
   "metadata": {},
   "outputs": [],
   "source": [
    "columns_to_keep = ['id', 'name', 'host_id',\n",
    "       'neighborhood', 'latitude', 'longitude', 'room_type', 'price',\n",
    "       'min_nights', 'num_reviews', 'last_review',\n",
    "       'reviews_per_month', 'calculated_host_listings_count',\n",
    "       'availability_365', 'num_reviews_last_12m']\n",
    "df_rome_june_selected = df_rome_june[columns_to_keep]"
   ]
  },
  {
   "cell_type": "code",
   "execution_count": 379,
   "id": "fa6a0b7a-839f-4d4f-acc1-ad6b867497eb",
   "metadata": {},
   "outputs": [
    {
     "data": {
      "text/plain": [
       "Index(['id', 'name', 'host_id', 'neighborhood', 'latitude', 'longitude',\n",
       "       'room_type', 'price', 'min_nights', 'num_reviews', 'last_review',\n",
       "       'reviews_per_month', 'calculated_host_listings_count',\n",
       "       'availability_365', 'num_reviews_last_12m'],\n",
       "      dtype='object')"
      ]
     },
     "execution_count": 379,
     "metadata": {},
     "output_type": "execute_result"
    }
   ],
   "source": [
    "df_rome_june_selected.columns"
   ]
  },
  {
   "cell_type": "code",
   "execution_count": 380,
   "id": "26e9ff02-02a2-4727-a5c0-406e1b2ee0c3",
   "metadata": {},
   "outputs": [
    {
     "name": "stdout",
     "output_type": "stream",
     "text": [
      "Number of rows where 'num_reviews' is equal to 0: 3457\n"
     ]
    }
   ],
   "source": [
    "# check how many observations in 'num_reviews' are equal to 0\n",
    "num_zero_reviews = (df_rome_june_selected['num_reviews'] == 0).sum()\n",
    "print(\"Number of rows where 'num_reviews' is equal to 0:\", num_zero_reviews)"
   ]
  },
  {
   "cell_type": "markdown",
   "id": "f67bf9e9-967c-4dbd-a06c-cddfb3eba2ac",
   "metadata": {},
   "source": [
    "#### The columns 'last_review' and 'reviews_per_month', along with the count of rows where 'number_of_reviews' equals 0, all exhibit the same count of missing values: 3457. Upon closer inspection of the dataset, I observed that these missing values are correlated with instances where 'number_of_reviews' is 0. Initially, I considered creating a flag for this pattern, but upon reflection, I decided against it. The '0' value in 'number_of_reviews' already serves as an implicit flag, indicating observations without any reviews."
   ]
  },
  {
   "cell_type": "code",
   "execution_count": 381,
   "id": "255f3036-2f0c-405c-8a8a-3f86ea4527a0",
   "metadata": {},
   "outputs": [
    {
     "data": {
      "text/plain": [
       "id                                  int64\n",
       "name                               object\n",
       "host_id                             int64\n",
       "neighborhood                       object\n",
       "latitude                          float64\n",
       "longitude                         float64\n",
       "room_type                          object\n",
       "price                               int64\n",
       "min_nights                          int64\n",
       "num_reviews                         int64\n",
       "last_review                        object\n",
       "reviews_per_month                 float64\n",
       "calculated_host_listings_count      int64\n",
       "availability_365                    int64\n",
       "num_reviews_last_12m                int64\n",
       "dtype: object"
      ]
     },
     "execution_count": 381,
     "metadata": {},
     "output_type": "execute_result"
    }
   ],
   "source": [
    "df_rome_june_selected.dtypes"
   ]
  },
  {
   "cell_type": "code",
   "execution_count": 382,
   "id": "3b9591c5-c5a1-437b-a617-3892733d680f",
   "metadata": {},
   "outputs": [],
   "source": [
    "# change the data type of the 'last_review' to datetime\n",
    "df_rome_june_selected.loc[:, 'last_review'] = pd.to_datetime(df_rome_june_selected['last_review'])"
   ]
  },
  {
   "cell_type": "code",
   "execution_count": 383,
   "id": "117cadc2-1323-463e-9804-4f8cbf2c90aa",
   "metadata": {},
   "outputs": [
    {
     "data": {
      "text/plain": [
       "id                                  int64\n",
       "name                               object\n",
       "host_id                             int64\n",
       "neighborhood                       object\n",
       "latitude                          float64\n",
       "longitude                         float64\n",
       "room_type                          object\n",
       "price                               int64\n",
       "min_nights                          int64\n",
       "num_reviews                         int64\n",
       "last_review                        object\n",
       "reviews_per_month                 float64\n",
       "calculated_host_listings_count      int64\n",
       "availability_365                    int64\n",
       "num_reviews_last_12m                int64\n",
       "dtype: object"
      ]
     },
     "execution_count": 383,
     "metadata": {},
     "output_type": "execute_result"
    }
   ],
   "source": [
    "df_rome_june_selected.dtypes"
   ]
  },
  {
   "cell_type": "code",
   "execution_count": 348,
   "id": "35cd4912-ef27-43c6-a6d8-1d11eed353ac",
   "metadata": {},
   "outputs": [
    {
     "name": "stdout",
     "output_type": "stream",
     "text": [
      "last_review\n"
     ]
    },
    {
     "name": "stderr",
     "output_type": "stream",
     "text": [
      "/var/folders/hq/_gnsfjyd47q9z3ll9llqlfpw0000gn/T/ipykernel_23186/3145712848.py:3: FutureWarning: DataFrame.applymap has been deprecated. Use DataFrame.map instead.\n",
      "  weird = (df_rome_june_selected[[col]].applymap(type) != df_rome_june_selected[[col]].iloc[0].apply(type)).any(axis = 1)\n",
      "/var/folders/hq/_gnsfjyd47q9z3ll9llqlfpw0000gn/T/ipykernel_23186/3145712848.py:3: FutureWarning: DataFrame.applymap has been deprecated. Use DataFrame.map instead.\n",
      "  weird = (df_rome_june_selected[[col]].applymap(type) != df_rome_june_selected[[col]].iloc[0].apply(type)).any(axis = 1)\n",
      "/var/folders/hq/_gnsfjyd47q9z3ll9llqlfpw0000gn/T/ipykernel_23186/3145712848.py:3: FutureWarning: DataFrame.applymap has been deprecated. Use DataFrame.map instead.\n",
      "  weird = (df_rome_june_selected[[col]].applymap(type) != df_rome_june_selected[[col]].iloc[0].apply(type)).any(axis = 1)\n",
      "/var/folders/hq/_gnsfjyd47q9z3ll9llqlfpw0000gn/T/ipykernel_23186/3145712848.py:3: FutureWarning: DataFrame.applymap has been deprecated. Use DataFrame.map instead.\n",
      "  weird = (df_rome_june_selected[[col]].applymap(type) != df_rome_june_selected[[col]].iloc[0].apply(type)).any(axis = 1)\n",
      "/var/folders/hq/_gnsfjyd47q9z3ll9llqlfpw0000gn/T/ipykernel_23186/3145712848.py:3: FutureWarning: DataFrame.applymap has been deprecated. Use DataFrame.map instead.\n",
      "  weird = (df_rome_june_selected[[col]].applymap(type) != df_rome_june_selected[[col]].iloc[0].apply(type)).any(axis = 1)\n",
      "/var/folders/hq/_gnsfjyd47q9z3ll9llqlfpw0000gn/T/ipykernel_23186/3145712848.py:3: FutureWarning: DataFrame.applymap has been deprecated. Use DataFrame.map instead.\n",
      "  weird = (df_rome_june_selected[[col]].applymap(type) != df_rome_june_selected[[col]].iloc[0].apply(type)).any(axis = 1)\n",
      "/var/folders/hq/_gnsfjyd47q9z3ll9llqlfpw0000gn/T/ipykernel_23186/3145712848.py:3: FutureWarning: DataFrame.applymap has been deprecated. Use DataFrame.map instead.\n",
      "  weird = (df_rome_june_selected[[col]].applymap(type) != df_rome_june_selected[[col]].iloc[0].apply(type)).any(axis = 1)\n",
      "/var/folders/hq/_gnsfjyd47q9z3ll9llqlfpw0000gn/T/ipykernel_23186/3145712848.py:3: FutureWarning: DataFrame.applymap has been deprecated. Use DataFrame.map instead.\n",
      "  weird = (df_rome_june_selected[[col]].applymap(type) != df_rome_june_selected[[col]].iloc[0].apply(type)).any(axis = 1)\n",
      "/var/folders/hq/_gnsfjyd47q9z3ll9llqlfpw0000gn/T/ipykernel_23186/3145712848.py:3: FutureWarning: DataFrame.applymap has been deprecated. Use DataFrame.map instead.\n",
      "  weird = (df_rome_june_selected[[col]].applymap(type) != df_rome_june_selected[[col]].iloc[0].apply(type)).any(axis = 1)\n",
      "/var/folders/hq/_gnsfjyd47q9z3ll9llqlfpw0000gn/T/ipykernel_23186/3145712848.py:3: FutureWarning: DataFrame.applymap has been deprecated. Use DataFrame.map instead.\n",
      "  weird = (df_rome_june_selected[[col]].applymap(type) != df_rome_june_selected[[col]].iloc[0].apply(type)).any(axis = 1)\n",
      "/var/folders/hq/_gnsfjyd47q9z3ll9llqlfpw0000gn/T/ipykernel_23186/3145712848.py:3: FutureWarning: DataFrame.applymap has been deprecated. Use DataFrame.map instead.\n",
      "  weird = (df_rome_june_selected[[col]].applymap(type) != df_rome_june_selected[[col]].iloc[0].apply(type)).any(axis = 1)\n",
      "/var/folders/hq/_gnsfjyd47q9z3ll9llqlfpw0000gn/T/ipykernel_23186/3145712848.py:3: FutureWarning: DataFrame.applymap has been deprecated. Use DataFrame.map instead.\n",
      "  weird = (df_rome_june_selected[[col]].applymap(type) != df_rome_june_selected[[col]].iloc[0].apply(type)).any(axis = 1)\n",
      "/var/folders/hq/_gnsfjyd47q9z3ll9llqlfpw0000gn/T/ipykernel_23186/3145712848.py:3: FutureWarning: DataFrame.applymap has been deprecated. Use DataFrame.map instead.\n",
      "  weird = (df_rome_june_selected[[col]].applymap(type) != df_rome_june_selected[[col]].iloc[0].apply(type)).any(axis = 1)\n",
      "/var/folders/hq/_gnsfjyd47q9z3ll9llqlfpw0000gn/T/ipykernel_23186/3145712848.py:3: FutureWarning: DataFrame.applymap has been deprecated. Use DataFrame.map instead.\n",
      "  weird = (df_rome_june_selected[[col]].applymap(type) != df_rome_june_selected[[col]].iloc[0].apply(type)).any(axis = 1)\n",
      "/var/folders/hq/_gnsfjyd47q9z3ll9llqlfpw0000gn/T/ipykernel_23186/3145712848.py:3: FutureWarning: DataFrame.applymap has been deprecated. Use DataFrame.map instead.\n",
      "  weird = (df_rome_june_selected[[col]].applymap(type) != df_rome_june_selected[[col]].iloc[0].apply(type)).any(axis = 1)\n"
     ]
    }
   ],
   "source": [
    "# check fo mixed data types\n",
    "for col in df_rome_june_selected.columns.tolist():\n",
    "  weird = (df_rome_june_selected[[col]].applymap(type) != df_rome_june_selected[[col]].iloc[0].apply(type)).any(axis = 1)\n",
    "  if len (df_rome_june_selected[weird]) > 0:\n",
    "    print (col)"
   ]
  },
  {
   "cell_type": "code",
   "execution_count": 384,
   "id": "2b5c38d9-d79f-43e3-9583-6f8daecfdbe5",
   "metadata": {},
   "outputs": [
    {
     "name": "stdout",
     "output_type": "stream",
     "text": [
      "Unique data types in the 'last_review' column after parsing:\n",
      "<class 'pandas._libs.tslibs.timestamps.Timestamp'>\n",
      "<class 'pandas._libs.tslibs.nattype.NaTType'>\n"
     ]
    }
   ],
   "source": [
    "# Convert 'last_review' column to datetime data type with errors='coerce'\n",
    "parsed_dates = pd.to_datetime(df_rome_june_selected['last_review'], errors='coerce')\n",
    "\n",
    "# Find the unique data types in the parsed dates\n",
    "unique_data_types = parsed_dates.apply(type).unique()\n",
    "\n",
    "print(\"Unique data types in the 'last_review' column after parsing:\")\n",
    "for data_type in unique_data_types:\n",
    "    print(data_type)"
   ]
  },
  {
   "cell_type": "code",
   "execution_count": 385,
   "id": "3e1dc68e-d485-41dc-93aa-4cf1db8b7a26",
   "metadata": {},
   "outputs": [
    {
     "name": "stdout",
     "output_type": "stream",
     "text": [
      "Number of NaTType values in the 'last_review' column: 3457\n"
     ]
    }
   ],
   "source": [
    "# Convert 'last_review' column to datetime data type with errors='coerce'\n",
    "parsed_dates = pd.to_datetime(df_rome_june_selected['last_review'], errors='coerce')\n",
    "\n",
    "# Count the number of NaTType values\n",
    "num_nat_values = parsed_dates.isna().sum()\n",
    "\n",
    "print(\"Number of NaTType values in the 'last_review' column:\", num_nat_values)"
   ]
  },
  {
   "cell_type": "markdown",
   "id": "0e39da82-2283-41fd-8b55-12f462aeb5a4",
   "metadata": {},
   "source": [
    "#### I checked it and the other data type is for the missing data, I have now 3 options:\n",
    "#### Remove them, impute them, or create a flag\n",
    "#### for the reason I explained above (The '0' value in 'number_of_reviews' already serves as an implicit flag, indicating observations without any reviews.) I don't take any action."
   ]
  },
  {
   "cell_type": "code",
   "execution_count": 386,
   "id": "d0c63dfb-6965-43c8-986a-4e2533535913",
   "metadata": {},
   "outputs": [],
   "source": [
    "# check the duplicates\n",
    "df_dups = df_rome_june_selected[df_rome_june_selected.duplicated()]"
   ]
  },
  {
   "cell_type": "code",
   "execution_count": 387,
   "id": "62b9b813-28fc-4aba-a9a1-b56726a7bb82",
   "metadata": {},
   "outputs": [
    {
     "data": {
      "text/plain": [
       "Index(['id', 'name', 'host_id', 'neighborhood', 'latitude', 'longitude',\n",
       "       'room_type', 'price', 'min_nights', 'num_reviews', 'last_review',\n",
       "       'reviews_per_month', 'calculated_host_listings_count',\n",
       "       'availability_365', 'num_reviews_last_12m'],\n",
       "      dtype='object')"
      ]
     },
     "execution_count": 387,
     "metadata": {},
     "output_type": "execute_result"
    }
   ],
   "source": [
    "df_rome_june_selected.columns"
   ]
  },
  {
   "cell_type": "markdown",
   "id": "2a5f925e-f742-4669-95f4-876b463b6b37",
   "metadata": {},
   "source": [
    "# 3. Data Understanding"
   ]
  },
  {
   "cell_type": "code",
   "execution_count": 388,
   "id": "b2f0569d-8f81-4a54-87c0-5d700e7f7a94",
   "metadata": {},
   "outputs": [
    {
     "data": {
      "text/html": [
       "<div>\n",
       "<style scoped>\n",
       "    .dataframe tbody tr th:only-of-type {\n",
       "        vertical-align: middle;\n",
       "    }\n",
       "\n",
       "    .dataframe tbody tr th {\n",
       "        vertical-align: top;\n",
       "    }\n",
       "\n",
       "    .dataframe thead th {\n",
       "        text-align: right;\n",
       "    }\n",
       "</style>\n",
       "<table border=\"1\" class=\"dataframe\">\n",
       "  <thead>\n",
       "    <tr style=\"text-align: right;\">\n",
       "      <th></th>\n",
       "      <th>price</th>\n",
       "      <th>min_nights</th>\n",
       "      <th>num_reviews</th>\n",
       "      <th>reviews_per_month</th>\n",
       "      <th>calculated_host_listings_count</th>\n",
       "      <th>availability_365</th>\n",
       "      <th>num_reviews_last_12m</th>\n",
       "    </tr>\n",
       "  </thead>\n",
       "  <tbody>\n",
       "    <tr>\n",
       "      <th>count</th>\n",
       "      <td>26256.000000</td>\n",
       "      <td>26256.000000</td>\n",
       "      <td>26256.000000</td>\n",
       "      <td>22799.000000</td>\n",
       "      <td>26256.000000</td>\n",
       "      <td>26256.000000</td>\n",
       "      <td>26256.000000</td>\n",
       "    </tr>\n",
       "    <tr>\n",
       "      <th>mean</th>\n",
       "      <td>230.828344</td>\n",
       "      <td>3.455629</td>\n",
       "      <td>53.935977</td>\n",
       "      <td>1.665726</td>\n",
       "      <td>8.712294</td>\n",
       "      <td>181.439328</td>\n",
       "      <td>15.360718</td>\n",
       "    </tr>\n",
       "    <tr>\n",
       "      <th>std</th>\n",
       "      <td>1345.561287</td>\n",
       "      <td>18.371505</td>\n",
       "      <td>86.204971</td>\n",
       "      <td>1.672183</td>\n",
       "      <td>27.598178</td>\n",
       "      <td>116.643099</td>\n",
       "      <td>20.701418</td>\n",
       "    </tr>\n",
       "    <tr>\n",
       "      <th>min</th>\n",
       "      <td>0.000000</td>\n",
       "      <td>1.000000</td>\n",
       "      <td>0.000000</td>\n",
       "      <td>0.010000</td>\n",
       "      <td>1.000000</td>\n",
       "      <td>0.000000</td>\n",
       "      <td>0.000000</td>\n",
       "    </tr>\n",
       "    <tr>\n",
       "      <th>25%</th>\n",
       "      <td>85.000000</td>\n",
       "      <td>1.000000</td>\n",
       "      <td>3.000000</td>\n",
       "      <td>0.370000</td>\n",
       "      <td>1.000000</td>\n",
       "      <td>78.000000</td>\n",
       "      <td>0.000000</td>\n",
       "    </tr>\n",
       "    <tr>\n",
       "      <th>50%</th>\n",
       "      <td>134.000000</td>\n",
       "      <td>2.000000</td>\n",
       "      <td>18.000000</td>\n",
       "      <td>1.110000</td>\n",
       "      <td>2.000000</td>\n",
       "      <td>191.000000</td>\n",
       "      <td>6.000000</td>\n",
       "    </tr>\n",
       "    <tr>\n",
       "      <th>75%</th>\n",
       "      <td>211.000000</td>\n",
       "      <td>3.000000</td>\n",
       "      <td>67.000000</td>\n",
       "      <td>2.480000</td>\n",
       "      <td>6.000000</td>\n",
       "      <td>285.000000</td>\n",
       "      <td>24.000000</td>\n",
       "    </tr>\n",
       "    <tr>\n",
       "      <th>max</th>\n",
       "      <td>90963.000000</td>\n",
       "      <td>999.000000</td>\n",
       "      <td>1525.000000</td>\n",
       "      <td>35.940000</td>\n",
       "      <td>248.000000</td>\n",
       "      <td>365.000000</td>\n",
       "      <td>621.000000</td>\n",
       "    </tr>\n",
       "  </tbody>\n",
       "</table>\n",
       "</div>"
      ],
      "text/plain": [
       "              price    min_nights   num_reviews  reviews_per_month  \\\n",
       "count  26256.000000  26256.000000  26256.000000       22799.000000   \n",
       "mean     230.828344      3.455629     53.935977           1.665726   \n",
       "std     1345.561287     18.371505     86.204971           1.672183   \n",
       "min        0.000000      1.000000      0.000000           0.010000   \n",
       "25%       85.000000      1.000000      3.000000           0.370000   \n",
       "50%      134.000000      2.000000     18.000000           1.110000   \n",
       "75%      211.000000      3.000000     67.000000           2.480000   \n",
       "max    90963.000000    999.000000   1525.000000          35.940000   \n",
       "\n",
       "       calculated_host_listings_count  availability_365  num_reviews_last_12m  \n",
       "count                    26256.000000      26256.000000          26256.000000  \n",
       "mean                         8.712294        181.439328             15.360718  \n",
       "std                         27.598178        116.643099             20.701418  \n",
       "min                          1.000000          0.000000              0.000000  \n",
       "25%                          1.000000         78.000000              0.000000  \n",
       "50%                          2.000000        191.000000              6.000000  \n",
       "75%                          6.000000        285.000000             24.000000  \n",
       "max                        248.000000        365.000000            621.000000  "
      ]
     },
     "execution_count": 388,
     "metadata": {},
     "output_type": "execute_result"
    }
   ],
   "source": [
    "# basic descriptive analysis\n",
    "df_rome_june_selected[['price', 'min_nights', 'num_reviews',\n",
    "       'last_review', 'reviews_per_month', 'calculated_host_listings_count',\n",
    "       'availability_365', 'num_reviews_last_12m']].describe()"
   ]
  },
  {
   "cell_type": "markdown",
   "id": "7e24a95d-a7cd-4ae4-9f58-650ff70329ee",
   "metadata": {},
   "source": [
    "####  The minimum price of $0 raises concerns about the presence of missing or erroneous data, as it's unusual for accommodations to be offered for free."
   ]
  },
  {
   "cell_type": "code",
   "execution_count": 389,
   "id": "5d1d1a3b-e3f3-4e28-ab70-d8dc4516ffd5",
   "metadata": {},
   "outputs": [
    {
     "data": {
      "text/plain": [
       "5"
      ]
     },
     "execution_count": 389,
     "metadata": {},
     "output_type": "execute_result"
    }
   ],
   "source": [
    "num_zero_prices = (df_rome_june_selected['price'] == 0).sum()\n",
    "num_zero_prices"
   ]
  },
  {
   "cell_type": "markdown",
   "id": "cc82cb0a-ff8e-44f1-8714-b44485998a4e",
   "metadata": {},
   "source": [
    "#### there are only 5 observation, I leave it be, it can also be somekind of coucg surfing!"
   ]
  },
  {
   "cell_type": "code",
   "execution_count": 390,
   "id": "26841016-6233-443f-afc5-9b79923116fb",
   "metadata": {},
   "outputs": [
    {
     "data": {
      "text/plain": [
       "354"
      ]
     },
     "execution_count": 390,
     "metadata": {},
     "output_type": "execute_result"
    }
   ],
   "source": [
    "num_max_nights = (df_rome_june_selected['min_nights'] >= 30).sum()\n",
    "num_max_nights"
   ]
  },
  {
   "cell_type": "code",
   "execution_count": 392,
   "id": "44bd630e-7e9b-4850-b6ee-c44bab974572",
   "metadata": {},
   "outputs": [
    {
     "name": "stdout",
     "output_type": "stream",
     "text": [
      "Number of unique entries in the 'minimum_nights' column: 54\n",
      "Counts of each unique entry in the 'minimum_nights' column:\n",
      "min_nights\n",
      "1      9771\n",
      "2      8256\n",
      "3      5491\n",
      "4       956\n",
      "5       524\n",
      "7       382\n",
      "30      187\n",
      "6       151\n",
      "10       87\n",
      "15       79\n",
      "14       57\n",
      "28       48\n",
      "90       40\n",
      "60       33\n",
      "20       27\n",
      "365      22\n",
      "25       13\n",
      "29       13\n",
      "8        12\n",
      "21       11\n",
      "31       11\n",
      "150       9\n",
      "12        7\n",
      "180       6\n",
      "13        5\n",
      "50        5\n",
      "100       5\n",
      "120       4\n",
      "18        4\n",
      "16        3\n",
      "999       3\n",
      "364       3\n",
      "56        3\n",
      "300       2\n",
      "45        2\n",
      "360       2\n",
      "99        2\n",
      "9         2\n",
      "200       2\n",
      "55        2\n",
      "350       1\n",
      "32        1\n",
      "40        1\n",
      "19        1\n",
      "75        1\n",
      "400       1\n",
      "27        1\n",
      "170       1\n",
      "85        1\n",
      "153       1\n",
      "720       1\n",
      "80        1\n",
      "140       1\n",
      "11        1\n",
      "Name: count, dtype: int64\n"
     ]
    }
   ],
   "source": [
    "# Count the number of unique entries and their counts in the 'minimum_nights' column\n",
    "minimum_nights_counts = df_rome_june_selected['min_nights'].value_counts()\n",
    "\n",
    "# Count the number of unique entries in the 'minimum_nights' column\n",
    "num_unique_min_nights = len(minimum_nights_counts)\n",
    "\n",
    "print(\"Number of unique entries in the 'minimum_nights' column:\", num_unique_min_nights)\n",
    "print(\"Counts of each unique entry in the 'minimum_nights' column:\")\n",
    "print(minimum_nights_counts)"
   ]
  },
  {
   "cell_type": "markdown",
   "id": "a47fb541-4124-4e22-a2fa-07c3b70e2714",
   "metadata": {},
   "source": [
    "#### There are some unusual values in the data, such as:\n",
    "#### gap between the mean and median prices. I am going to investigate this by examining the number of values above the third quartile.(outliers)\n",
    "#### mean 230.828344\n",
    "#### median 134.000000\n",
    "\n",
    "#### listings where the minimum stay time is 720 or 999 days. I want to investigate these entries.\n",
    "#### I want to see the listings with a minimum stay time of more than 336 nights. Renting a fully equipped flat or room for a year through Airbnb isn't unusual, but for periods longer than a year, people typically prefer to rent from agencies with different types of contracts."
   ]
  },
  {
   "cell_type": "code",
   "execution_count": 393,
   "id": "91f34037-3a04-4236-b5f9-dec2e899b745",
   "metadata": {},
   "outputs": [
    {
     "data": {
      "text/plain": [
       "(73, 15)"
      ]
     },
     "execution_count": 393,
     "metadata": {},
     "output_type": "execute_result"
    }
   ],
   "source": [
    "# check the 'price' column\n",
    "columns_to_display = ['neighborhood',\n",
    "       'room_type', 'price', 'min_nights', 'num_reviews',\n",
    "       'last_review', 'reviews_per_month','calculated_host_listings_count','availability_365', 'num_reviews_last_12m']\n",
    "\n",
    "mean = 230.828344\n",
    "std_dev = 1345.561287\n",
    "\n",
    "lower_bound = mean - 3 * std_dev\n",
    "upper_bound = mean + 3 * std_dev\n",
    "\n",
    "lower_bound, upper_bound\n",
    "outliers = df_rome_june_selected[(df_rome_june_selected['price'] < lower_bound) | (df_rome_june_selected['price'] > upper_bound)]\n",
    "outliers.shape"
   ]
  },
  {
   "cell_type": "markdown",
   "id": "9a78382e-2013-4bf5-91a9-a7aa8786953b",
   "metadata": {},
   "source": [
    "#### we only have 73 outliers an it is aroun 0.2% of whole observation, I decide to delete them."
   ]
  },
  {
   "cell_type": "code",
   "execution_count": 394,
   "id": "7ce2995b-20f3-4534-a135-57e23b0fddb6",
   "metadata": {},
   "outputs": [],
   "source": [
    "# Filter the DataFrame to exclude outliers and overwrite the original DataFrame\n",
    "df_rome_june_selected = df_rome_june_selected[\n",
    "(df_rome_june_selected['price'] >= lower_bound) & (df_rome_june_selected['price'] <= upper_bound)]"
   ]
  },
  {
   "cell_type": "code",
   "execution_count": 395,
   "id": "27b32442-eaf8-49cb-9216-78e3e8910721",
   "metadata": {},
   "outputs": [
    {
     "data": {
      "text/plain": [
       "(26183, 15)"
      ]
     },
     "execution_count": 395,
     "metadata": {},
     "output_type": "execute_result"
    }
   ],
   "source": [
    "# Filter the DataFrame to exclude outliers and overwrite the original DataFrame\n",
    "df_rome_june_selected.shape"
   ]
  },
  {
   "cell_type": "markdown",
   "id": "bce4acee-e534-4d3d-b396-b36735ece310",
   "metadata": {},
   "source": [
    "#### Previously we had 26256 observations and now there are 26183, and the 73 outliers are successfully removed."
   ]
  },
  {
   "cell_type": "code",
   "execution_count": 396,
   "id": "20162eda-377e-4844-bac8-76bde0683926",
   "metadata": {},
   "outputs": [
    {
     "data": {
      "text/html": [
       "<div>\n",
       "<style scoped>\n",
       "    .dataframe tbody tr th:only-of-type {\n",
       "        vertical-align: middle;\n",
       "    }\n",
       "\n",
       "    .dataframe tbody tr th {\n",
       "        vertical-align: top;\n",
       "    }\n",
       "\n",
       "    .dataframe thead th {\n",
       "        text-align: right;\n",
       "    }\n",
       "</style>\n",
       "<table border=\"1\" class=\"dataframe\">\n",
       "  <thead>\n",
       "    <tr style=\"text-align: right;\">\n",
       "      <th></th>\n",
       "      <th>price</th>\n",
       "      <th>min_nights</th>\n",
       "      <th>num_reviews</th>\n",
       "      <th>reviews_per_month</th>\n",
       "      <th>calculated_host_listings_count</th>\n",
       "      <th>availability_365</th>\n",
       "      <th>num_reviews_last_12m</th>\n",
       "    </tr>\n",
       "  </thead>\n",
       "  <tbody>\n",
       "    <tr>\n",
       "      <th>count</th>\n",
       "      <td>26183.000000</td>\n",
       "      <td>26183.000000</td>\n",
       "      <td>26183.000000</td>\n",
       "      <td>22751.000000</td>\n",
       "      <td>26183.000000</td>\n",
       "      <td>26183.000000</td>\n",
       "      <td>26183.000000</td>\n",
       "    </tr>\n",
       "    <tr>\n",
       "      <th>mean</th>\n",
       "      <td>189.927472</td>\n",
       "      <td>3.431043</td>\n",
       "      <td>54.056602</td>\n",
       "      <td>1.668243</td>\n",
       "      <td>8.708551</td>\n",
       "      <td>181.621777</td>\n",
       "      <td>15.397548</td>\n",
       "    </tr>\n",
       "    <tr>\n",
       "      <th>std</th>\n",
       "      <td>230.562618</td>\n",
       "      <td>18.123463</td>\n",
       "      <td>86.288568</td>\n",
       "      <td>1.672789</td>\n",
       "      <td>27.555454</td>\n",
       "      <td>116.552622</td>\n",
       "      <td>20.716457</td>\n",
       "    </tr>\n",
       "    <tr>\n",
       "      <th>min</th>\n",
       "      <td>0.000000</td>\n",
       "      <td>1.000000</td>\n",
       "      <td>0.000000</td>\n",
       "      <td>0.010000</td>\n",
       "      <td>1.000000</td>\n",
       "      <td>0.000000</td>\n",
       "      <td>0.000000</td>\n",
       "    </tr>\n",
       "    <tr>\n",
       "      <th>25%</th>\n",
       "      <td>85.000000</td>\n",
       "      <td>1.000000</td>\n",
       "      <td>3.000000</td>\n",
       "      <td>0.370000</td>\n",
       "      <td>1.000000</td>\n",
       "      <td>78.000000</td>\n",
       "      <td>0.000000</td>\n",
       "    </tr>\n",
       "    <tr>\n",
       "      <th>50%</th>\n",
       "      <td>133.000000</td>\n",
       "      <td>2.000000</td>\n",
       "      <td>18.000000</td>\n",
       "      <td>1.120000</td>\n",
       "      <td>2.000000</td>\n",
       "      <td>191.000000</td>\n",
       "      <td>6.000000</td>\n",
       "    </tr>\n",
       "    <tr>\n",
       "      <th>75%</th>\n",
       "      <td>210.000000</td>\n",
       "      <td>3.000000</td>\n",
       "      <td>67.000000</td>\n",
       "      <td>2.490000</td>\n",
       "      <td>6.000000</td>\n",
       "      <td>285.000000</td>\n",
       "      <td>24.000000</td>\n",
       "    </tr>\n",
       "    <tr>\n",
       "      <th>max</th>\n",
       "      <td>4255.000000</td>\n",
       "      <td>999.000000</td>\n",
       "      <td>1525.000000</td>\n",
       "      <td>35.940000</td>\n",
       "      <td>248.000000</td>\n",
       "      <td>365.000000</td>\n",
       "      <td>621.000000</td>\n",
       "    </tr>\n",
       "  </tbody>\n",
       "</table>\n",
       "</div>"
      ],
      "text/plain": [
       "              price    min_nights   num_reviews  reviews_per_month  \\\n",
       "count  26183.000000  26183.000000  26183.000000       22751.000000   \n",
       "mean     189.927472      3.431043     54.056602           1.668243   \n",
       "std      230.562618     18.123463     86.288568           1.672789   \n",
       "min        0.000000      1.000000      0.000000           0.010000   \n",
       "25%       85.000000      1.000000      3.000000           0.370000   \n",
       "50%      133.000000      2.000000     18.000000           1.120000   \n",
       "75%      210.000000      3.000000     67.000000           2.490000   \n",
       "max     4255.000000    999.000000   1525.000000          35.940000   \n",
       "\n",
       "       calculated_host_listings_count  availability_365  num_reviews_last_12m  \n",
       "count                    26183.000000      26183.000000          26183.000000  \n",
       "mean                         8.708551        181.621777             15.397548  \n",
       "std                         27.555454        116.552622             20.716457  \n",
       "min                          1.000000          0.000000              0.000000  \n",
       "25%                          1.000000         78.000000              0.000000  \n",
       "50%                          2.000000        191.000000              6.000000  \n",
       "75%                          6.000000        285.000000             24.000000  \n",
       "max                        248.000000        365.000000            621.000000  "
      ]
     },
     "execution_count": 396,
     "metadata": {},
     "output_type": "execute_result"
    }
   ],
   "source": [
    "df_rome_june_selected[['price', 'min_nights', 'num_reviews',\n",
    "       'last_review', 'reviews_per_month', 'calculated_host_listings_count',\n",
    "       'availability_365', 'num_reviews_last_12m']].describe()"
   ]
  },
  {
   "cell_type": "markdown",
   "id": "b90364e7-28c3-4e06-93d4-22fccf32d520",
   "metadata": {},
   "source": [
    "#### The same problem is seen here too in 'calculated_host_listings_count', mean is 8.7 and the median is 2, and the max is 248! I need to find the outliers and the number of them."
   ]
  },
  {
   "cell_type": "code",
   "execution_count": 397,
   "id": "ac03b160-9c80-4331-be8f-ab9ca60d7a8f",
   "metadata": {},
   "outputs": [
    {
     "data": {
      "text/plain": [
       "(402, 15)"
      ]
     },
     "execution_count": 397,
     "metadata": {},
     "output_type": "execute_result"
    }
   ],
   "source": [
    "# check the 'calculated_host_listings_count' column\n",
    "columns_to_display = ['neighborhood',\n",
    "       'room_type', 'price', 'min_nights', 'num_reviews',\n",
    "       'last_review', 'reviews_per_month','calculated_host_listings_count','availability_365', 'num_reviews_last_12m']\n",
    "\n",
    "mean_chlc = 8.708551\n",
    "std_dev_chlc = 27.555454\t\n",
    "\n",
    "lower_bound_chlc = mean_chlc - 3 * std_dev_chlc\n",
    "upper_bound_chlc = mean_chlc + 3 * std_dev_chlc\n",
    "\n",
    "lower_bound_chlc, upper_bound_chlc\n",
    "outliers_chlc = df_rome_june_selected[(df_rome_june_selected['calculated_host_listings_count'] < lower_bound_chlc)\n",
    "| (df_rome_june_selected['calculated_host_listings_count'] > upper_bound_chlc)]\n",
    "outliers_chlc.shape"
   ]
  },
  {
   "cell_type": "markdown",
   "id": "8bd5ff71-7eed-4eda-96c6-06aa9920843c",
   "metadata": {},
   "source": [
    "#### There are 402 outliers which are 1.5% of whole data, so I remove them as well."
   ]
  },
  {
   "cell_type": "code",
   "execution_count": 398,
   "id": "48cdf9c7-70d2-4da2-8c7e-ba2f7d7e1d4e",
   "metadata": {},
   "outputs": [],
   "source": [
    "# Filter the DataFrame to exclude outliers and overwrite the original DataFrame\n",
    "df_rome_june_selected = df_rome_june_selected[\n",
    "(df_rome_june_selected['calculated_host_listings_count'] >= lower_bound_chlc) & \n",
    "(df_rome_june_selected['calculated_host_listings_count'] <= upper_bound_chlc)]"
   ]
  },
  {
   "cell_type": "code",
   "execution_count": 399,
   "id": "a7c2a050-9f75-44ce-b145-ac5d1ef204f9",
   "metadata": {},
   "outputs": [
    {
     "data": {
      "text/plain": [
       "(25781, 15)"
      ]
     },
     "execution_count": 399,
     "metadata": {},
     "output_type": "execute_result"
    }
   ],
   "source": [
    "df_rome_june_selected.shape"
   ]
  },
  {
   "cell_type": "markdown",
   "id": "df25f664-4a92-4b8e-85bb-068d564d4ed0",
   "metadata": {},
   "source": [
    "#### Now we have 25781 observations, which is 402 less than 25183 observations before, so the outliers are removed."
   ]
  },
  {
   "cell_type": "code",
   "execution_count": 401,
   "id": "838ef541-26ac-43bf-806a-265008b8e567",
   "metadata": {},
   "outputs": [
    {
     "data": {
      "text/html": [
       "<div>\n",
       "<style scoped>\n",
       "    .dataframe tbody tr th:only-of-type {\n",
       "        vertical-align: middle;\n",
       "    }\n",
       "\n",
       "    .dataframe tbody tr th {\n",
       "        vertical-align: top;\n",
       "    }\n",
       "\n",
       "    .dataframe thead th {\n",
       "        text-align: right;\n",
       "    }\n",
       "</style>\n",
       "<table border=\"1\" class=\"dataframe\">\n",
       "  <thead>\n",
       "    <tr style=\"text-align: right;\">\n",
       "      <th></th>\n",
       "      <th>price</th>\n",
       "      <th>min_nights</th>\n",
       "      <th>num_reviews</th>\n",
       "      <th>reviews_per_month</th>\n",
       "      <th>calculated_host_listings_count</th>\n",
       "      <th>availability_365</th>\n",
       "      <th>num_reviews_last_12m</th>\n",
       "    </tr>\n",
       "  </thead>\n",
       "  <tbody>\n",
       "    <tr>\n",
       "      <th>count</th>\n",
       "      <td>25781.000000</td>\n",
       "      <td>25781.000000</td>\n",
       "      <td>25781.000000</td>\n",
       "      <td>22367.000000</td>\n",
       "      <td>25781.000000</td>\n",
       "      <td>25781.000000</td>\n",
       "      <td>25781.000000</td>\n",
       "    </tr>\n",
       "    <tr>\n",
       "      <th>mean</th>\n",
       "      <td>187.958691</td>\n",
       "      <td>3.456964</td>\n",
       "      <td>54.315969</td>\n",
       "      <td>1.667172</td>\n",
       "      <td>5.533998</td>\n",
       "      <td>182.874636</td>\n",
       "      <td>15.389473</td>\n",
       "    </tr>\n",
       "    <tr>\n",
       "      <th>std</th>\n",
       "      <td>229.156222</td>\n",
       "      <td>18.262929</td>\n",
       "      <td>86.792153</td>\n",
       "      <td>1.679109</td>\n",
       "      <td>9.131858</td>\n",
       "      <td>116.437846</td>\n",
       "      <td>20.794682</td>\n",
       "    </tr>\n",
       "    <tr>\n",
       "      <th>min</th>\n",
       "      <td>0.000000</td>\n",
       "      <td>1.000000</td>\n",
       "      <td>0.000000</td>\n",
       "      <td>0.010000</td>\n",
       "      <td>1.000000</td>\n",
       "      <td>0.000000</td>\n",
       "      <td>0.000000</td>\n",
       "    </tr>\n",
       "    <tr>\n",
       "      <th>25%</th>\n",
       "      <td>85.000000</td>\n",
       "      <td>1.000000</td>\n",
       "      <td>3.000000</td>\n",
       "      <td>0.370000</td>\n",
       "      <td>1.000000</td>\n",
       "      <td>79.000000</td>\n",
       "      <td>0.000000</td>\n",
       "    </tr>\n",
       "    <tr>\n",
       "      <th>50%</th>\n",
       "      <td>132.000000</td>\n",
       "      <td>2.000000</td>\n",
       "      <td>17.000000</td>\n",
       "      <td>1.110000</td>\n",
       "      <td>2.000000</td>\n",
       "      <td>194.000000</td>\n",
       "      <td>6.000000</td>\n",
       "    </tr>\n",
       "    <tr>\n",
       "      <th>75%</th>\n",
       "      <td>209.000000</td>\n",
       "      <td>3.000000</td>\n",
       "      <td>68.000000</td>\n",
       "      <td>2.490000</td>\n",
       "      <td>6.000000</td>\n",
       "      <td>286.000000</td>\n",
       "      <td>24.000000</td>\n",
       "    </tr>\n",
       "    <tr>\n",
       "      <th>max</th>\n",
       "      <td>4255.000000</td>\n",
       "      <td>999.000000</td>\n",
       "      <td>1525.000000</td>\n",
       "      <td>35.940000</td>\n",
       "      <td>68.000000</td>\n",
       "      <td>365.000000</td>\n",
       "      <td>621.000000</td>\n",
       "    </tr>\n",
       "  </tbody>\n",
       "</table>\n",
       "</div>"
      ],
      "text/plain": [
       "              price    min_nights   num_reviews  reviews_per_month  \\\n",
       "count  25781.000000  25781.000000  25781.000000       22367.000000   \n",
       "mean     187.958691      3.456964     54.315969           1.667172   \n",
       "std      229.156222     18.262929     86.792153           1.679109   \n",
       "min        0.000000      1.000000      0.000000           0.010000   \n",
       "25%       85.000000      1.000000      3.000000           0.370000   \n",
       "50%      132.000000      2.000000     17.000000           1.110000   \n",
       "75%      209.000000      3.000000     68.000000           2.490000   \n",
       "max     4255.000000    999.000000   1525.000000          35.940000   \n",
       "\n",
       "       calculated_host_listings_count  availability_365  num_reviews_last_12m  \n",
       "count                    25781.000000      25781.000000          25781.000000  \n",
       "mean                         5.533998        182.874636             15.389473  \n",
       "std                          9.131858        116.437846             20.794682  \n",
       "min                          1.000000          0.000000              0.000000  \n",
       "25%                          1.000000         79.000000              0.000000  \n",
       "50%                          2.000000        194.000000              6.000000  \n",
       "75%                          6.000000        286.000000             24.000000  \n",
       "max                         68.000000        365.000000            621.000000  "
      ]
     },
     "execution_count": 401,
     "metadata": {},
     "output_type": "execute_result"
    }
   ],
   "source": [
    "df_rome_june_selected[['price', 'min_nights', 'num_reviews',\n",
    "       'last_review', 'reviews_per_month', 'calculated_host_listings_count',\n",
    "       'availability_365', 'num_reviews_last_12m']].describe()"
   ]
  },
  {
   "cell_type": "code",
   "execution_count": 402,
   "id": "6116d7fe-c6fa-4e05-839a-04b68a589893",
   "metadata": {},
   "outputs": [
    {
     "data": {
      "text/plain": [
       "(140, 15)"
      ]
     },
     "execution_count": 402,
     "metadata": {},
     "output_type": "execute_result"
    }
   ],
   "source": [
    "# check the 'minimum_nights' column\n",
    "columns_to_display = ['neighborhood',\n",
    "       'room_type', 'price', 'min_nights', 'numb_reviews',\n",
    "       'last_review', 'reviews_per_month','calculated_host_listings_count','availability_365', 'num_reviews_last_12m']\n",
    "\n",
    "mean_mn = 3.456964\n",
    "std_dev_mn = 18.262929\t\t\n",
    "\n",
    "lower_bound_mn = mean_mn - 3 * std_dev_mn\n",
    "upper_bound_mn = mean_mn + 3 * std_dev_mn\n",
    "\n",
    "lower_bound_mn, upper_bound_mn\n",
    "outliers_mn = df_rome_june_selected[(df_rome_june_selected['min_nights'] < lower_bound_mn)\n",
    "| (df_rome_june_selected['min_nights'] > upper_bound_mn)]\n",
    "outliers_mn.shape"
   ]
  },
  {
   "cell_type": "markdown",
   "id": "19624aba-2b56-4f81-9625-69fec2b54bd4",
   "metadata": {},
   "source": [
    "#### There are 140 outliers in 'minimum_nights', which is 0.5% of the current dataframe, so I decide to remove them as well."
   ]
  },
  {
   "cell_type": "code",
   "execution_count": 403,
   "id": "7ef3fdb5-cff6-4f5e-86f3-8dd76ea38895",
   "metadata": {},
   "outputs": [],
   "source": [
    "# Filter the DataFrame to exclude outliers and overwrite the original DataFrame\n",
    "df_rome_june_selected = df_rome_june_selected[\n",
    "(df_rome_june_selected['min_nights'] >= lower_bound_mn) & \n",
    "(df_rome_june_selected['min_nights'] <= upper_bound_mn)]"
   ]
  },
  {
   "cell_type": "code",
   "execution_count": 404,
   "id": "1585878c-e2fc-4455-97d2-1b6d4a0652d1",
   "metadata": {},
   "outputs": [
    {
     "data": {
      "text/plain": [
       "(25641, 15)"
      ]
     },
     "execution_count": 404,
     "metadata": {},
     "output_type": "execute_result"
    }
   ],
   "source": [
    "df_rome_june_selected.shape"
   ]
  },
  {
   "cell_type": "markdown",
   "id": "73812fc1-c6ac-4e24-9591-671df2eead34",
   "metadata": {},
   "source": [
    "#### Now we have 25641 observations, which is 140 less than 25781 observations before, so the outliers are removed."
   ]
  },
  {
   "cell_type": "code",
   "execution_count": 405,
   "id": "3a84faac-25b0-42b5-9c40-14333650ea2e",
   "metadata": {},
   "outputs": [
    {
     "data": {
      "text/html": [
       "<div>\n",
       "<style scoped>\n",
       "    .dataframe tbody tr th:only-of-type {\n",
       "        vertical-align: middle;\n",
       "    }\n",
       "\n",
       "    .dataframe tbody tr th {\n",
       "        vertical-align: top;\n",
       "    }\n",
       "\n",
       "    .dataframe thead th {\n",
       "        text-align: right;\n",
       "    }\n",
       "</style>\n",
       "<table border=\"1\" class=\"dataframe\">\n",
       "  <thead>\n",
       "    <tr style=\"text-align: right;\">\n",
       "      <th></th>\n",
       "      <th>price</th>\n",
       "      <th>min_nights</th>\n",
       "      <th>num_reviews</th>\n",
       "      <th>reviews_per_month</th>\n",
       "      <th>calculated_host_listings_count</th>\n",
       "      <th>availability_365</th>\n",
       "      <th>num_reviews_last_12m</th>\n",
       "    </tr>\n",
       "  </thead>\n",
       "  <tbody>\n",
       "    <tr>\n",
       "      <th>count</th>\n",
       "      <td>25641.000000</td>\n",
       "      <td>25641.000000</td>\n",
       "      <td>25641.000000</td>\n",
       "      <td>22280.000000</td>\n",
       "      <td>25641.000000</td>\n",
       "      <td>25641.000000</td>\n",
       "      <td>25641.000000</td>\n",
       "    </tr>\n",
       "    <tr>\n",
       "      <th>mean</th>\n",
       "      <td>188.241839</td>\n",
       "      <td>2.521470</td>\n",
       "      <td>54.494403</td>\n",
       "      <td>1.672062</td>\n",
       "      <td>5.547249</td>\n",
       "      <td>182.904411</td>\n",
       "      <td>15.471042</td>\n",
       "    </tr>\n",
       "    <tr>\n",
       "      <th>std</th>\n",
       "      <td>228.973180</td>\n",
       "      <td>3.469942</td>\n",
       "      <td>86.928632</td>\n",
       "      <td>1.680252</td>\n",
       "      <td>9.149864</td>\n",
       "      <td>116.382652</td>\n",
       "      <td>20.821117</td>\n",
       "    </tr>\n",
       "    <tr>\n",
       "      <th>min</th>\n",
       "      <td>0.000000</td>\n",
       "      <td>1.000000</td>\n",
       "      <td>0.000000</td>\n",
       "      <td>0.010000</td>\n",
       "      <td>1.000000</td>\n",
       "      <td>0.000000</td>\n",
       "      <td>0.000000</td>\n",
       "    </tr>\n",
       "    <tr>\n",
       "      <th>25%</th>\n",
       "      <td>85.000000</td>\n",
       "      <td>1.000000</td>\n",
       "      <td>3.000000</td>\n",
       "      <td>0.370000</td>\n",
       "      <td>1.000000</td>\n",
       "      <td>79.000000</td>\n",
       "      <td>0.000000</td>\n",
       "    </tr>\n",
       "    <tr>\n",
       "      <th>50%</th>\n",
       "      <td>133.000000</td>\n",
       "      <td>2.000000</td>\n",
       "      <td>18.000000</td>\n",
       "      <td>1.110000</td>\n",
       "      <td>2.000000</td>\n",
       "      <td>194.000000</td>\n",
       "      <td>6.000000</td>\n",
       "    </tr>\n",
       "    <tr>\n",
       "      <th>75%</th>\n",
       "      <td>209.000000</td>\n",
       "      <td>3.000000</td>\n",
       "      <td>68.000000</td>\n",
       "      <td>2.500000</td>\n",
       "      <td>6.000000</td>\n",
       "      <td>286.000000</td>\n",
       "      <td>24.000000</td>\n",
       "    </tr>\n",
       "    <tr>\n",
       "      <th>max</th>\n",
       "      <td>4255.000000</td>\n",
       "      <td>56.000000</td>\n",
       "      <td>1525.000000</td>\n",
       "      <td>35.940000</td>\n",
       "      <td>68.000000</td>\n",
       "      <td>365.000000</td>\n",
       "      <td>621.000000</td>\n",
       "    </tr>\n",
       "  </tbody>\n",
       "</table>\n",
       "</div>"
      ],
      "text/plain": [
       "              price    min_nights   num_reviews  reviews_per_month  \\\n",
       "count  25641.000000  25641.000000  25641.000000       22280.000000   \n",
       "mean     188.241839      2.521470     54.494403           1.672062   \n",
       "std      228.973180      3.469942     86.928632           1.680252   \n",
       "min        0.000000      1.000000      0.000000           0.010000   \n",
       "25%       85.000000      1.000000      3.000000           0.370000   \n",
       "50%      133.000000      2.000000     18.000000           1.110000   \n",
       "75%      209.000000      3.000000     68.000000           2.500000   \n",
       "max     4255.000000     56.000000   1525.000000          35.940000   \n",
       "\n",
       "       calculated_host_listings_count  availability_365  num_reviews_last_12m  \n",
       "count                    25641.000000      25641.000000          25641.000000  \n",
       "mean                         5.547249        182.904411             15.471042  \n",
       "std                          9.149864        116.382652             20.821117  \n",
       "min                          1.000000          0.000000              0.000000  \n",
       "25%                          1.000000         79.000000              0.000000  \n",
       "50%                          2.000000        194.000000              6.000000  \n",
       "75%                          6.000000        286.000000             24.000000  \n",
       "max                         68.000000        365.000000            621.000000  "
      ]
     },
     "execution_count": 405,
     "metadata": {},
     "output_type": "execute_result"
    }
   ],
   "source": [
    "df_rome_june_selected[['price', 'min_nights', 'num_reviews',\n",
    "       'last_review', 'reviews_per_month', 'calculated_host_listings_count',\n",
    "       'availability_365', 'num_reviews_last_12m']].describe()"
   ]
  },
  {
   "cell_type": "code",
   "execution_count": 406,
   "id": "04622096-fd65-4107-b759-08d8317fe981",
   "metadata": {},
   "outputs": [
    {
     "data": {
      "text/plain": [
       "15"
      ]
     },
     "execution_count": 406,
     "metadata": {},
     "output_type": "execute_result"
    }
   ],
   "source": [
    "# Count the number of unique values in the 'neighborhood' column\n",
    "unique_neighborhoods_count = df_rome_june_selected['neighborhood'].nunique()\n",
    "\n",
    "# Display the number of unique values\n",
    "unique_neighborhoods_count"
   ]
  },
  {
   "cell_type": "code",
   "execution_count": 407,
   "id": "8a20de2c-4fd2-4120-82aa-335075a6e9bd",
   "metadata": {},
   "outputs": [
    {
     "data": {
      "text/html": [
       "<div>\n",
       "<style scoped>\n",
       "    .dataframe tbody tr th:only-of-type {\n",
       "        vertical-align: middle;\n",
       "    }\n",
       "\n",
       "    .dataframe tbody tr th {\n",
       "        vertical-align: top;\n",
       "    }\n",
       "\n",
       "    .dataframe thead th {\n",
       "        text-align: right;\n",
       "    }\n",
       "</style>\n",
       "<table border=\"1\" class=\"dataframe\">\n",
       "  <thead>\n",
       "    <tr style=\"text-align: right;\">\n",
       "      <th></th>\n",
       "      <th>id</th>\n",
       "      <th>name</th>\n",
       "      <th>host_id</th>\n",
       "      <th>neighborhood</th>\n",
       "      <th>latitude</th>\n",
       "      <th>longitude</th>\n",
       "      <th>room_type</th>\n",
       "      <th>price</th>\n",
       "      <th>min_nights</th>\n",
       "      <th>num_reviews</th>\n",
       "      <th>last_review</th>\n",
       "      <th>reviews_per_month</th>\n",
       "      <th>calculated_host_listings_count</th>\n",
       "      <th>availability_365</th>\n",
       "      <th>num_reviews_last_12m</th>\n",
       "    </tr>\n",
       "  </thead>\n",
       "  <tbody>\n",
       "    <tr>\n",
       "      <th>0</th>\n",
       "      <td>2737</td>\n",
       "      <td>Place to stay in Rome · ★4.80 · 1 bedroom · 1 ...</td>\n",
       "      <td>3047</td>\n",
       "      <td>VIII Appia Antica</td>\n",
       "      <td>41.871360</td>\n",
       "      <td>12.482150</td>\n",
       "      <td>Private room</td>\n",
       "      <td>50</td>\n",
       "      <td>7</td>\n",
       "      <td>7</td>\n",
       "      <td>2015-05-28 00:00:00</td>\n",
       "      <td>0.07</td>\n",
       "      <td>6</td>\n",
       "      <td>358</td>\n",
       "      <td>0</td>\n",
       "    </tr>\n",
       "    <tr>\n",
       "      <th>1</th>\n",
       "      <td>181189</td>\n",
       "      <td>Bed and breakfast in Rome · ★4.72 · 1 bedroom ...</td>\n",
       "      <td>868477</td>\n",
       "      <td>I Centro Storico</td>\n",
       "      <td>41.909630</td>\n",
       "      <td>12.456030</td>\n",
       "      <td>Hotel room</td>\n",
       "      <td>100</td>\n",
       "      <td>3</td>\n",
       "      <td>147</td>\n",
       "      <td>2023-06-05 00:00:00</td>\n",
       "      <td>1.03</td>\n",
       "      <td>8</td>\n",
       "      <td>175</td>\n",
       "      <td>6</td>\n",
       "    </tr>\n",
       "    <tr>\n",
       "      <th>2</th>\n",
       "      <td>11834</td>\n",
       "      <td>Rental unit in Rome · ★4.80 · 1 bedroom · 1 be...</td>\n",
       "      <td>44552</td>\n",
       "      <td>I Centro Storico</td>\n",
       "      <td>41.895447</td>\n",
       "      <td>12.491181</td>\n",
       "      <td>Entire home/apt</td>\n",
       "      <td>105</td>\n",
       "      <td>2</td>\n",
       "      <td>191</td>\n",
       "      <td>2023-06-02 00:00:00</td>\n",
       "      <td>1.30</td>\n",
       "      <td>1</td>\n",
       "      <td>246</td>\n",
       "      <td>44</td>\n",
       "    </tr>\n",
       "    <tr>\n",
       "      <th>3</th>\n",
       "      <td>49240</td>\n",
       "      <td>Condo in Rome · ★4.69 · 2 bedrooms · 5 beds · ...</td>\n",
       "      <td>224479</td>\n",
       "      <td>I Centro Storico</td>\n",
       "      <td>41.897380</td>\n",
       "      <td>12.476000</td>\n",
       "      <td>Entire home/apt</td>\n",
       "      <td>294</td>\n",
       "      <td>2</td>\n",
       "      <td>70</td>\n",
       "      <td>2023-04-11 00:00:00</td>\n",
       "      <td>0.46</td>\n",
       "      <td>2</td>\n",
       "      <td>151</td>\n",
       "      <td>32</td>\n",
       "    </tr>\n",
       "    <tr>\n",
       "      <th>4</th>\n",
       "      <td>181747</td>\n",
       "      <td>Rental unit in Rome · ★4.56 · 2 bedrooms · 3 b...</td>\n",
       "      <td>871063</td>\n",
       "      <td>I Centro Storico</td>\n",
       "      <td>41.901830</td>\n",
       "      <td>12.503970</td>\n",
       "      <td>Entire home/apt</td>\n",
       "      <td>228</td>\n",
       "      <td>2</td>\n",
       "      <td>85</td>\n",
       "      <td>2023-06-09 00:00:00</td>\n",
       "      <td>0.63</td>\n",
       "      <td>2</td>\n",
       "      <td>329</td>\n",
       "      <td>42</td>\n",
       "    </tr>\n",
       "  </tbody>\n",
       "</table>\n",
       "</div>"
      ],
      "text/plain": [
       "       id                                               name  host_id  \\\n",
       "0    2737  Place to stay in Rome · ★4.80 · 1 bedroom · 1 ...     3047   \n",
       "1  181189  Bed and breakfast in Rome · ★4.72 · 1 bedroom ...   868477   \n",
       "2   11834  Rental unit in Rome · ★4.80 · 1 bedroom · 1 be...    44552   \n",
       "3   49240  Condo in Rome · ★4.69 · 2 bedrooms · 5 beds · ...   224479   \n",
       "4  181747  Rental unit in Rome · ★4.56 · 2 bedrooms · 3 b...   871063   \n",
       "\n",
       "        neighborhood   latitude  longitude        room_type  price  \\\n",
       "0  VIII Appia Antica  41.871360  12.482150     Private room     50   \n",
       "1   I Centro Storico  41.909630  12.456030       Hotel room    100   \n",
       "2   I Centro Storico  41.895447  12.491181  Entire home/apt    105   \n",
       "3   I Centro Storico  41.897380  12.476000  Entire home/apt    294   \n",
       "4   I Centro Storico  41.901830  12.503970  Entire home/apt    228   \n",
       "\n",
       "   min_nights  num_reviews          last_review  reviews_per_month  \\\n",
       "0           7            7  2015-05-28 00:00:00               0.07   \n",
       "1           3          147  2023-06-05 00:00:00               1.03   \n",
       "2           2          191  2023-06-02 00:00:00               1.30   \n",
       "3           2           70  2023-04-11 00:00:00               0.46   \n",
       "4           2           85  2023-06-09 00:00:00               0.63   \n",
       "\n",
       "   calculated_host_listings_count  availability_365  num_reviews_last_12m  \n",
       "0                               6               358                     0  \n",
       "1                               8               175                     6  \n",
       "2                               1               246                    44  \n",
       "3                               2               151                    32  \n",
       "4                               2               329                    42  "
      ]
     },
     "execution_count": 407,
     "metadata": {},
     "output_type": "execute_result"
    }
   ],
   "source": [
    "df_rome_june_selected.head()"
   ]
  },
  {
   "cell_type": "code",
   "execution_count": 408,
   "id": "32346a15-3f94-4374-949f-d5601de80913",
   "metadata": {},
   "outputs": [
    {
     "name": "stderr",
     "output_type": "stream",
     "text": [
      "/var/folders/hq/_gnsfjyd47q9z3ll9llqlfpw0000gn/T/ipykernel_23186/2534050139.py:19: SettingWithCopyWarning: \n",
      "A value is trying to be set on a copy of a slice from a DataFrame.\n",
      "Try using .loc[row_indexer,col_indexer] = value instead\n",
      "\n",
      "See the caveats in the documentation: https://pandas.pydata.org/pandas-docs/stable/user_guide/indexing.html#returning-a-view-versus-a-copy\n",
      "  df_rome_june_selected[['place_name', 'rating', 'num_bedroom', 'num_bed', 'baths']] = df_rome_june_selected['name'].apply(lambda x: pd.Series(split_name_column(x)))\n",
      "/var/folders/hq/_gnsfjyd47q9z3ll9llqlfpw0000gn/T/ipykernel_23186/2534050139.py:19: SettingWithCopyWarning: \n",
      "A value is trying to be set on a copy of a slice from a DataFrame.\n",
      "Try using .loc[row_indexer,col_indexer] = value instead\n",
      "\n",
      "See the caveats in the documentation: https://pandas.pydata.org/pandas-docs/stable/user_guide/indexing.html#returning-a-view-versus-a-copy\n",
      "  df_rome_june_selected[['place_name', 'rating', 'num_bedroom', 'num_bed', 'baths']] = df_rome_june_selected['name'].apply(lambda x: pd.Series(split_name_column(x)))\n",
      "/var/folders/hq/_gnsfjyd47q9z3ll9llqlfpw0000gn/T/ipykernel_23186/2534050139.py:19: SettingWithCopyWarning: \n",
      "A value is trying to be set on a copy of a slice from a DataFrame.\n",
      "Try using .loc[row_indexer,col_indexer] = value instead\n",
      "\n",
      "See the caveats in the documentation: https://pandas.pydata.org/pandas-docs/stable/user_guide/indexing.html#returning-a-view-versus-a-copy\n",
      "  df_rome_june_selected[['place_name', 'rating', 'num_bedroom', 'num_bed', 'baths']] = df_rome_june_selected['name'].apply(lambda x: pd.Series(split_name_column(x)))\n",
      "/var/folders/hq/_gnsfjyd47q9z3ll9llqlfpw0000gn/T/ipykernel_23186/2534050139.py:19: SettingWithCopyWarning: \n",
      "A value is trying to be set on a copy of a slice from a DataFrame.\n",
      "Try using .loc[row_indexer,col_indexer] = value instead\n",
      "\n",
      "See the caveats in the documentation: https://pandas.pydata.org/pandas-docs/stable/user_guide/indexing.html#returning-a-view-versus-a-copy\n",
      "  df_rome_june_selected[['place_name', 'rating', 'num_bedroom', 'num_bed', 'baths']] = df_rome_june_selected['name'].apply(lambda x: pd.Series(split_name_column(x)))\n",
      "/var/folders/hq/_gnsfjyd47q9z3ll9llqlfpw0000gn/T/ipykernel_23186/2534050139.py:19: SettingWithCopyWarning: \n",
      "A value is trying to be set on a copy of a slice from a DataFrame.\n",
      "Try using .loc[row_indexer,col_indexer] = value instead\n",
      "\n",
      "See the caveats in the documentation: https://pandas.pydata.org/pandas-docs/stable/user_guide/indexing.html#returning-a-view-versus-a-copy\n",
      "  df_rome_june_selected[['place_name', 'rating', 'num_bedroom', 'num_bed', 'baths']] = df_rome_june_selected['name'].apply(lambda x: pd.Series(split_name_column(x)))\n",
      "/var/folders/hq/_gnsfjyd47q9z3ll9llqlfpw0000gn/T/ipykernel_23186/2534050139.py:22: SettingWithCopyWarning: \n",
      "A value is trying to be set on a copy of a slice from a DataFrame\n",
      "\n",
      "See the caveats in the documentation: https://pandas.pydata.org/pandas-docs/stable/user_guide/indexing.html#returning-a-view-versus-a-copy\n",
      "  df_rome_june_selected.drop(columns=['name'], inplace=True)\n"
     ]
    }
   ],
   "source": [
    "# split the name column\n",
    "# Define the function to extract the components from the 'name' column\n",
    "def split_name_column(name):\n",
    "    parts = name.split(' · ')\n",
    "    \n",
    "    # Ensure the parts list has the expected number of elements\n",
    "    if len(parts) == 5:\n",
    "        place_name = parts[0]\n",
    "        rating = parts[1]\n",
    "        num_bedroom = parts[2]\n",
    "        num_bed = parts[3]\n",
    "        baths = parts[4]\n",
    "    else:\n",
    "        place_name, rating, num_bedroom, num_bed, baths = [None]*5\n",
    "    \n",
    "    return place_name, rating, num_bedroom, num_bed, baths\n",
    "\n",
    "# Apply the function to the 'name' column and create new columns\n",
    "df_rome_june_selected[['place_name', 'rating', 'num_bedroom', 'num_bed', 'baths']] = df_rome_june_selected['name'].apply(lambda x: pd.Series(split_name_column(x)))\n",
    "\n",
    "# Drop the original 'name' column\n",
    "df_rome_june_selected.drop(columns=['name'], inplace=True)"
   ]
  },
  {
   "cell_type": "code",
   "execution_count": 410,
   "id": "950bfe15-1cf4-485b-a4dc-058ef47298ec",
   "metadata": {},
   "outputs": [
    {
     "data": {
      "text/html": [
       "<div>\n",
       "<style scoped>\n",
       "    .dataframe tbody tr th:only-of-type {\n",
       "        vertical-align: middle;\n",
       "    }\n",
       "\n",
       "    .dataframe tbody tr th {\n",
       "        vertical-align: top;\n",
       "    }\n",
       "\n",
       "    .dataframe thead th {\n",
       "        text-align: right;\n",
       "    }\n",
       "</style>\n",
       "<table border=\"1\" class=\"dataframe\">\n",
       "  <thead>\n",
       "    <tr style=\"text-align: right;\">\n",
       "      <th></th>\n",
       "      <th>id</th>\n",
       "      <th>host_id</th>\n",
       "      <th>neighborhood</th>\n",
       "      <th>latitude</th>\n",
       "      <th>longitude</th>\n",
       "      <th>room_type</th>\n",
       "      <th>price</th>\n",
       "      <th>min_nights</th>\n",
       "      <th>num_reviews</th>\n",
       "      <th>last_review</th>\n",
       "      <th>reviews_per_month</th>\n",
       "      <th>calculated_host_listings_count</th>\n",
       "      <th>availability_365</th>\n",
       "      <th>num_reviews_last_12m</th>\n",
       "      <th>place_name</th>\n",
       "      <th>rating</th>\n",
       "      <th>num_bedroom</th>\n",
       "      <th>num_bed</th>\n",
       "      <th>baths</th>\n",
       "    </tr>\n",
       "  </thead>\n",
       "  <tbody>\n",
       "    <tr>\n",
       "      <th>0</th>\n",
       "      <td>2737</td>\n",
       "      <td>3047</td>\n",
       "      <td>VIII Appia Antica</td>\n",
       "      <td>41.871360</td>\n",
       "      <td>12.482150</td>\n",
       "      <td>Private room</td>\n",
       "      <td>50</td>\n",
       "      <td>7</td>\n",
       "      <td>7</td>\n",
       "      <td>2015-05-28 00:00:00</td>\n",
       "      <td>0.07</td>\n",
       "      <td>6</td>\n",
       "      <td>358</td>\n",
       "      <td>0</td>\n",
       "      <td>Place to stay in Rome</td>\n",
       "      <td>★4.80</td>\n",
       "      <td>1 bedroom</td>\n",
       "      <td>1 bed</td>\n",
       "      <td>1.5 baths</td>\n",
       "    </tr>\n",
       "    <tr>\n",
       "      <th>1</th>\n",
       "      <td>181189</td>\n",
       "      <td>868477</td>\n",
       "      <td>I Centro Storico</td>\n",
       "      <td>41.909630</td>\n",
       "      <td>12.456030</td>\n",
       "      <td>Hotel room</td>\n",
       "      <td>100</td>\n",
       "      <td>3</td>\n",
       "      <td>147</td>\n",
       "      <td>2023-06-05 00:00:00</td>\n",
       "      <td>1.03</td>\n",
       "      <td>8</td>\n",
       "      <td>175</td>\n",
       "      <td>6</td>\n",
       "      <td>Bed and breakfast in Rome</td>\n",
       "      <td>★4.72</td>\n",
       "      <td>1 bedroom</td>\n",
       "      <td>1 bed</td>\n",
       "      <td>1 private bath</td>\n",
       "    </tr>\n",
       "    <tr>\n",
       "      <th>2</th>\n",
       "      <td>11834</td>\n",
       "      <td>44552</td>\n",
       "      <td>I Centro Storico</td>\n",
       "      <td>41.895447</td>\n",
       "      <td>12.491181</td>\n",
       "      <td>Entire home/apt</td>\n",
       "      <td>105</td>\n",
       "      <td>2</td>\n",
       "      <td>191</td>\n",
       "      <td>2023-06-02 00:00:00</td>\n",
       "      <td>1.30</td>\n",
       "      <td>1</td>\n",
       "      <td>246</td>\n",
       "      <td>44</td>\n",
       "      <td>Rental unit in Rome</td>\n",
       "      <td>★4.80</td>\n",
       "      <td>1 bedroom</td>\n",
       "      <td>1 bed</td>\n",
       "      <td>1 bath</td>\n",
       "    </tr>\n",
       "    <tr>\n",
       "      <th>3</th>\n",
       "      <td>49240</td>\n",
       "      <td>224479</td>\n",
       "      <td>I Centro Storico</td>\n",
       "      <td>41.897380</td>\n",
       "      <td>12.476000</td>\n",
       "      <td>Entire home/apt</td>\n",
       "      <td>294</td>\n",
       "      <td>2</td>\n",
       "      <td>70</td>\n",
       "      <td>2023-04-11 00:00:00</td>\n",
       "      <td>0.46</td>\n",
       "      <td>2</td>\n",
       "      <td>151</td>\n",
       "      <td>32</td>\n",
       "      <td>Condo in Rome</td>\n",
       "      <td>★4.69</td>\n",
       "      <td>2 bedrooms</td>\n",
       "      <td>5 beds</td>\n",
       "      <td>1.5 baths</td>\n",
       "    </tr>\n",
       "    <tr>\n",
       "      <th>4</th>\n",
       "      <td>181747</td>\n",
       "      <td>871063</td>\n",
       "      <td>I Centro Storico</td>\n",
       "      <td>41.901830</td>\n",
       "      <td>12.503970</td>\n",
       "      <td>Entire home/apt</td>\n",
       "      <td>228</td>\n",
       "      <td>2</td>\n",
       "      <td>85</td>\n",
       "      <td>2023-06-09 00:00:00</td>\n",
       "      <td>0.63</td>\n",
       "      <td>2</td>\n",
       "      <td>329</td>\n",
       "      <td>42</td>\n",
       "      <td>Rental unit in Rome</td>\n",
       "      <td>★4.56</td>\n",
       "      <td>2 bedrooms</td>\n",
       "      <td>3 beds</td>\n",
       "      <td>2 baths</td>\n",
       "    </tr>\n",
       "  </tbody>\n",
       "</table>\n",
       "</div>"
      ],
      "text/plain": [
       "       id  host_id       neighborhood   latitude  longitude        room_type  \\\n",
       "0    2737     3047  VIII Appia Antica  41.871360  12.482150     Private room   \n",
       "1  181189   868477   I Centro Storico  41.909630  12.456030       Hotel room   \n",
       "2   11834    44552   I Centro Storico  41.895447  12.491181  Entire home/apt   \n",
       "3   49240   224479   I Centro Storico  41.897380  12.476000  Entire home/apt   \n",
       "4  181747   871063   I Centro Storico  41.901830  12.503970  Entire home/apt   \n",
       "\n",
       "   price  min_nights  num_reviews          last_review  reviews_per_month  \\\n",
       "0     50           7            7  2015-05-28 00:00:00               0.07   \n",
       "1    100           3          147  2023-06-05 00:00:00               1.03   \n",
       "2    105           2          191  2023-06-02 00:00:00               1.30   \n",
       "3    294           2           70  2023-04-11 00:00:00               0.46   \n",
       "4    228           2           85  2023-06-09 00:00:00               0.63   \n",
       "\n",
       "   calculated_host_listings_count  availability_365  num_reviews_last_12m  \\\n",
       "0                               6               358                     0   \n",
       "1                               8               175                     6   \n",
       "2                               1               246                    44   \n",
       "3                               2               151                    32   \n",
       "4                               2               329                    42   \n",
       "\n",
       "                  place_name rating num_bedroom num_bed           baths  \n",
       "0      Place to stay in Rome  ★4.80   1 bedroom   1 bed       1.5 baths  \n",
       "1  Bed and breakfast in Rome  ★4.72   1 bedroom   1 bed  1 private bath  \n",
       "2        Rental unit in Rome  ★4.80   1 bedroom   1 bed          1 bath  \n",
       "3              Condo in Rome  ★4.69  2 bedrooms  5 beds       1.5 baths  \n",
       "4        Rental unit in Rome  ★4.56  2 bedrooms  3 beds         2 baths  "
      ]
     },
     "execution_count": 410,
     "metadata": {},
     "output_type": "execute_result"
    }
   ],
   "source": [
    "df_rome_june_selected.head()"
   ]
  },
  {
   "cell_type": "code",
   "execution_count": 411,
   "id": "cdc5c3b4-68ce-416a-8e69-865107ba2c26",
   "metadata": {},
   "outputs": [],
   "source": [
    "desired_column_order = [ 'id', 'host_id', 'place_name', 'rating', 'num_bedroom', 'num_bed', 'baths',\n",
    "       'neighborhood', 'latitude', 'longitude', 'room_type', 'price',\n",
    "       'min_nights', 'num_reviews', 'last_review',\n",
    "       'reviews_per_month', 'calculated_host_listings_count',\n",
    "       'availability_365', 'num_reviews_last_12m']"
   ]
  },
  {
   "cell_type": "code",
   "execution_count": 412,
   "id": "cbf171c4-3412-4d86-913e-3da697093647",
   "metadata": {},
   "outputs": [],
   "source": [
    "df_rome_june_selected = df_rome_june_selected[desired_column_order]"
   ]
  },
  {
   "cell_type": "code",
   "execution_count": 413,
   "id": "5578ffe1-6192-419e-a46c-173cb10f36bb",
   "metadata": {},
   "outputs": [
    {
     "data": {
      "text/html": [
       "<div>\n",
       "<style scoped>\n",
       "    .dataframe tbody tr th:only-of-type {\n",
       "        vertical-align: middle;\n",
       "    }\n",
       "\n",
       "    .dataframe tbody tr th {\n",
       "        vertical-align: top;\n",
       "    }\n",
       "\n",
       "    .dataframe thead th {\n",
       "        text-align: right;\n",
       "    }\n",
       "</style>\n",
       "<table border=\"1\" class=\"dataframe\">\n",
       "  <thead>\n",
       "    <tr style=\"text-align: right;\">\n",
       "      <th></th>\n",
       "      <th>id</th>\n",
       "      <th>host_id</th>\n",
       "      <th>place_name</th>\n",
       "      <th>rating</th>\n",
       "      <th>num_bedroom</th>\n",
       "      <th>num_bed</th>\n",
       "      <th>baths</th>\n",
       "      <th>neighborhood</th>\n",
       "      <th>latitude</th>\n",
       "      <th>longitude</th>\n",
       "      <th>room_type</th>\n",
       "      <th>price</th>\n",
       "      <th>min_nights</th>\n",
       "      <th>num_reviews</th>\n",
       "      <th>last_review</th>\n",
       "      <th>reviews_per_month</th>\n",
       "      <th>calculated_host_listings_count</th>\n",
       "      <th>availability_365</th>\n",
       "      <th>num_reviews_last_12m</th>\n",
       "    </tr>\n",
       "  </thead>\n",
       "  <tbody>\n",
       "    <tr>\n",
       "      <th>0</th>\n",
       "      <td>2737</td>\n",
       "      <td>3047</td>\n",
       "      <td>Place to stay in Rome</td>\n",
       "      <td>★4.80</td>\n",
       "      <td>1 bedroom</td>\n",
       "      <td>1 bed</td>\n",
       "      <td>1.5 baths</td>\n",
       "      <td>VIII Appia Antica</td>\n",
       "      <td>41.871360</td>\n",
       "      <td>12.482150</td>\n",
       "      <td>Private room</td>\n",
       "      <td>50</td>\n",
       "      <td>7</td>\n",
       "      <td>7</td>\n",
       "      <td>2015-05-28 00:00:00</td>\n",
       "      <td>0.07</td>\n",
       "      <td>6</td>\n",
       "      <td>358</td>\n",
       "      <td>0</td>\n",
       "    </tr>\n",
       "    <tr>\n",
       "      <th>1</th>\n",
       "      <td>181189</td>\n",
       "      <td>868477</td>\n",
       "      <td>Bed and breakfast in Rome</td>\n",
       "      <td>★4.72</td>\n",
       "      <td>1 bedroom</td>\n",
       "      <td>1 bed</td>\n",
       "      <td>1 private bath</td>\n",
       "      <td>I Centro Storico</td>\n",
       "      <td>41.909630</td>\n",
       "      <td>12.456030</td>\n",
       "      <td>Hotel room</td>\n",
       "      <td>100</td>\n",
       "      <td>3</td>\n",
       "      <td>147</td>\n",
       "      <td>2023-06-05 00:00:00</td>\n",
       "      <td>1.03</td>\n",
       "      <td>8</td>\n",
       "      <td>175</td>\n",
       "      <td>6</td>\n",
       "    </tr>\n",
       "    <tr>\n",
       "      <th>2</th>\n",
       "      <td>11834</td>\n",
       "      <td>44552</td>\n",
       "      <td>Rental unit in Rome</td>\n",
       "      <td>★4.80</td>\n",
       "      <td>1 bedroom</td>\n",
       "      <td>1 bed</td>\n",
       "      <td>1 bath</td>\n",
       "      <td>I Centro Storico</td>\n",
       "      <td>41.895447</td>\n",
       "      <td>12.491181</td>\n",
       "      <td>Entire home/apt</td>\n",
       "      <td>105</td>\n",
       "      <td>2</td>\n",
       "      <td>191</td>\n",
       "      <td>2023-06-02 00:00:00</td>\n",
       "      <td>1.30</td>\n",
       "      <td>1</td>\n",
       "      <td>246</td>\n",
       "      <td>44</td>\n",
       "    </tr>\n",
       "    <tr>\n",
       "      <th>3</th>\n",
       "      <td>49240</td>\n",
       "      <td>224479</td>\n",
       "      <td>Condo in Rome</td>\n",
       "      <td>★4.69</td>\n",
       "      <td>2 bedrooms</td>\n",
       "      <td>5 beds</td>\n",
       "      <td>1.5 baths</td>\n",
       "      <td>I Centro Storico</td>\n",
       "      <td>41.897380</td>\n",
       "      <td>12.476000</td>\n",
       "      <td>Entire home/apt</td>\n",
       "      <td>294</td>\n",
       "      <td>2</td>\n",
       "      <td>70</td>\n",
       "      <td>2023-04-11 00:00:00</td>\n",
       "      <td>0.46</td>\n",
       "      <td>2</td>\n",
       "      <td>151</td>\n",
       "      <td>32</td>\n",
       "    </tr>\n",
       "    <tr>\n",
       "      <th>4</th>\n",
       "      <td>181747</td>\n",
       "      <td>871063</td>\n",
       "      <td>Rental unit in Rome</td>\n",
       "      <td>★4.56</td>\n",
       "      <td>2 bedrooms</td>\n",
       "      <td>3 beds</td>\n",
       "      <td>2 baths</td>\n",
       "      <td>I Centro Storico</td>\n",
       "      <td>41.901830</td>\n",
       "      <td>12.503970</td>\n",
       "      <td>Entire home/apt</td>\n",
       "      <td>228</td>\n",
       "      <td>2</td>\n",
       "      <td>85</td>\n",
       "      <td>2023-06-09 00:00:00</td>\n",
       "      <td>0.63</td>\n",
       "      <td>2</td>\n",
       "      <td>329</td>\n",
       "      <td>42</td>\n",
       "    </tr>\n",
       "  </tbody>\n",
       "</table>\n",
       "</div>"
      ],
      "text/plain": [
       "       id  host_id                 place_name rating num_bedroom num_bed  \\\n",
       "0    2737     3047      Place to stay in Rome  ★4.80   1 bedroom   1 bed   \n",
       "1  181189   868477  Bed and breakfast in Rome  ★4.72   1 bedroom   1 bed   \n",
       "2   11834    44552        Rental unit in Rome  ★4.80   1 bedroom   1 bed   \n",
       "3   49240   224479              Condo in Rome  ★4.69  2 bedrooms  5 beds   \n",
       "4  181747   871063        Rental unit in Rome  ★4.56  2 bedrooms  3 beds   \n",
       "\n",
       "            baths       neighborhood   latitude  longitude        room_type  \\\n",
       "0       1.5 baths  VIII Appia Antica  41.871360  12.482150     Private room   \n",
       "1  1 private bath   I Centro Storico  41.909630  12.456030       Hotel room   \n",
       "2          1 bath   I Centro Storico  41.895447  12.491181  Entire home/apt   \n",
       "3       1.5 baths   I Centro Storico  41.897380  12.476000  Entire home/apt   \n",
       "4         2 baths   I Centro Storico  41.901830  12.503970  Entire home/apt   \n",
       "\n",
       "   price  min_nights  num_reviews          last_review  reviews_per_month  \\\n",
       "0     50           7            7  2015-05-28 00:00:00               0.07   \n",
       "1    100           3          147  2023-06-05 00:00:00               1.03   \n",
       "2    105           2          191  2023-06-02 00:00:00               1.30   \n",
       "3    294           2           70  2023-04-11 00:00:00               0.46   \n",
       "4    228           2           85  2023-06-09 00:00:00               0.63   \n",
       "\n",
       "   calculated_host_listings_count  availability_365  num_reviews_last_12m  \n",
       "0                               6               358                     0  \n",
       "1                               8               175                     6  \n",
       "2                               1               246                    44  \n",
       "3                               2               151                    32  \n",
       "4                               2               329                    42  "
      ]
     },
     "execution_count": 413,
     "metadata": {},
     "output_type": "execute_result"
    }
   ],
   "source": [
    "df_rome_june_selected.head()"
   ]
  },
  {
   "cell_type": "markdown",
   "id": "41fc98db-0abb-41ed-be4b-658fa34ebfbe",
   "metadata": {},
   "source": [
    "# Expert"
   ]
  },
  {
   "cell_type": "code",
   "execution_count": 414,
   "id": "f7a9f1cc-a7cc-498d-b496-35ee1cb96cab",
   "metadata": {},
   "outputs": [],
   "source": [
    "# export dataframe:\n",
    "df_rome_june_selected.to_csv(os.path.join(path,'Prepared', 'rome_listings_june_cleaned.csv'))"
   ]
  },
  {
   "cell_type": "code",
   "execution_count": null,
   "id": "25b2fdd1-2348-4c8a-b79b-993ee07da402",
   "metadata": {},
   "outputs": [],
   "source": []
  }
 ],
 "metadata": {
  "kernelspec": {
   "display_name": "Python 3 (ipykernel)",
   "language": "python",
   "name": "python3"
  },
  "language_info": {
   "codemirror_mode": {
    "name": "ipython",
    "version": 3
   },
   "file_extension": ".py",
   "mimetype": "text/x-python",
   "name": "python",
   "nbconvert_exporter": "python",
   "pygments_lexer": "ipython3",
   "version": "3.11.7"
  }
 },
 "nbformat": 4,
 "nbformat_minor": 5
}
